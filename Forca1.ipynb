{
  "nbformat": 4,
  "nbformat_minor": 0,
  "metadata": {
    "colab": {
      "name": "Forca1.ipynb",
      "provenance": [],
      "authorship_tag": "ABX9TyM+Ba9HG0npn5/s31a2Z14C",
      "include_colab_link": true
    },
    "kernelspec": {
      "name": "python3",
      "display_name": "Python 3"
    },
    "language_info": {
      "name": "python"
    }
  },
  "cells": [
    {
      "cell_type": "markdown",
      "metadata": {
        "id": "view-in-github",
        "colab_type": "text"
      },
      "source": [
        "<a href=\"https://colab.research.google.com/github/Jnfagundes/_portifolio/blob/master/Forca1.ipynb\" target=\"_parent\"><img src=\"https://colab.research.google.com/assets/colab-badge.svg\" alt=\"Open In Colab\"/></a>"
      ]
    },
    {
      "cell_type": "code",
      "metadata": {
        "id": "T4HwYTN7VLv6"
      },
      "source": [
        "from random import randint\n",
        "\n",
        "palavras = ['sapato',  'cachorro',  'carimbo', 'caminhar', 'cansado', 'andando', 'felicidade', 'macaco', 'mamifero', 'aclamado', 'sorrateiro', 'palpite',\n",
        "            'girafa', 'pato', 'sofrimento', 'fazenda', 'livro', 'grande', 'granito']\n",
        "\n",
        "pl = len(palavras) # Descobrir a quantidade de palavras dentro da variável palavras\n",
        "\n",
        "p = randint(0, (pl -1)) # Sorteando a posição da palavra\n",
        "\n",
        "pa =palavras[p] # Guardando a palavra sorteada na variável pa\n",
        "\n",
        "print(len(pa)) # Descobrindo quantas letras a palavra tem\n",
        "pa.split()\n",
        "palavra_secreta = [] # Criando uma lista vazia para receber cada letra da palavra secreta\n",
        "for i in pa:\n",
        "  palavra_secreta.append(i)\n",
        "#print(palavra_secreta)\n",
        "espaço = [' _ ' * len(pa)] # Desenhando o espaço para colocar as letras\n",
        "print(espaço)\n",
        "print('=================================================')\n",
        "\n",
        "\n",
        "chute = 0\n",
        "cont = 0\n",
        "tamanho_palavra = len(pa)\n",
        "while True:\n",
        "  letra = str(input('Digite a letra que deseja jogar: '))\n",
        "  if letra in pa:\n",
        "    print(f'A letra {letra} aparece na palavra, {pa.count(letra)} vezes (ou vez)') # Usado para descobrir a quantidade de letra encontrada\n",
        "    print('=============================================================')\n",
        "    for p, t in enumerate(palavra_secreta):\n",
        "      if t == letra:\n",
        "        print(f'posição {p} valor {t}')\n",
        "        espaço.insert(p, t) \n",
        "        print(espaço)\n",
        "        print()\n",
        "    chute = chute + 1 \n",
        "    if chute > tamanho_palavra:\n",
        "      break   \n",
        "  else:\n",
        "    print(f'A letra {letra} não aparece na palavra.') \n",
        "    cont= cont+1\n",
        "    if cont > tamanho_palavra:\n",
        "      break\n",
        "    print('=============================================================')\n",
        "  "
      ],
      "execution_count": null,
      "outputs": []
    }
  ]
}