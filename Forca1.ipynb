{
  "nbformat": 4,
  "nbformat_minor": 0,
  "metadata": {
    "colab": {
      "name": "Forca1.ipynb",
      "provenance": [],
      "authorship_tag": "ABX9TyM6ySjaNeSeAgDNuNDEX0vD",
      "include_colab_link": true
    },
    "kernelspec": {
      "name": "python3",
      "display_name": "Python 3"
    },
    "language_info": {
      "name": "python"
    }
  },
  "cells": [
    {
      "cell_type": "markdown",
      "metadata": {
        "id": "view-in-github",
        "colab_type": "text"
      },
      "source": [
        "<a href=\"https://colab.research.google.com/github/Jnfagundes/_portifolio/blob/master/Forca1.ipynb\" target=\"_parent\"><img src=\"https://colab.research.google.com/assets/colab-badge.svg\" alt=\"Open In Colab\"/></a>"
      ]
    },
    {
      "cell_type": "code",
      "metadata": {
        "colab": {
          "base_uri": "https://localhost:8080/"
        },
        "id": "T4HwYTN7VLv6",
        "outputId": "89525ebd-1a2c-467e-e2ea-1d29038de2e9"
      },
      "source": [
        "from random import randint\n",
        "\n",
        "palavras = ['sapato',  'cachorro',  'carimbo', 'caminhar', 'cansado', 'andando', 'felicidade', 'macaco', 'mamifero', 'aclamado', 'sorrateiro', 'palpite',\n",
        "            'girafa', 'pato', 'sofrimento', 'fazenda', 'livro', 'grande', 'granito']\n",
        "\n",
        "pl = len(palavras) # Descobrir a quantidade de palavras dentro da variável palavras\n",
        "\n",
        "p = randint(0, (pl -1)) # Sorteando a posição da palavra\n",
        "\n",
        "pa =palavras[p] # Guardando a palavra sorteada na variável pa\n",
        "\n",
        "print(len(pa)) # Descobrindo quantas letras a palavra tem\n",
        "pa.split()\n",
        "espaço = ' _ ' * len(pa) # Desenhando o espaço para colocar as letras\n",
        "print(espaço)\n",
        "\n",
        "letra = str(input('Digite a letra que deseja jogar: '))\n",
        "\n",
        "if letra in pa:\n",
        "  print(f'A letra {letra} aparece na palavra, {pa.count(letra)} vezes (ou vez)') # Usado para descobrir a quantidade de letra encontrada\n",
        "else:\n",
        "  print(f'A letra {letra} não aparece na palavra.') \n",
        "  "
      ],
      "execution_count": 1,
      "outputs": [
        {
          "output_type": "stream",
          "text": [
            "6\n",
            " _  _  _  _  _  _ \n",
            "Digite a letra que deseja jogar: a\n",
            "A letra a aparece na palavra, 2 vezes (ou vez)\n"
          ],
          "name": "stdout"
        }
      ]
    }
  ]
}