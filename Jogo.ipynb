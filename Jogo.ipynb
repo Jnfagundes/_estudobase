{
  "nbformat": 4,
  "nbformat_minor": 0,
  "metadata": {
    "colab": {
      "name": "Jogo.ipynb",
      "provenance": [],
      "collapsed_sections": [],
      "authorship_tag": "ABX9TyM6QjwCAYrpPLoVLaPyMuFl",
      "include_colab_link": true
    },
    "kernelspec": {
      "name": "python3",
      "display_name": "Python 3"
    },
    "language_info": {
      "name": "python"
    }
  },
  "cells": [
    {
      "cell_type": "markdown",
      "metadata": {
        "id": "view-in-github",
        "colab_type": "text"
      },
      "source": [
        "<a href=\"https://colab.research.google.com/github/Jnfagundes/_portifolio/blob/master/Jogo.ipynb\" target=\"_parent\"><img src=\"https://colab.research.google.com/assets/colab-badge.svg\" alt=\"Open In Colab\"/></a>"
      ]
    },
    {
      "cell_type": "markdown",
      "metadata": {
        "id": "woWiCXifLRp5"
      },
      "source": [
        "Importação da biblioteca e criação da lista de palavras"
      ]
    },
    {
      "cell_type": "code",
      "metadata": {
        "id": "AzkDx6OgLQQ0"
      },
      "source": [
        "from random import randint\n",
        "\n",
        "palavras = ['sapato',  'cachorro',  'carimbo', 'caminhar', 'cansado', 'andando', 'felicidade', 'macaco', 'mamifero', 'aclamado', 'sorrateiro', 'palpite',\n",
        "            'girafa', 'pato', 'sofrimento', 'fazenda', 'livro', 'grande', 'granito']"
      ],
      "execution_count": 42,
      "outputs": []
    },
    {
      "cell_type": "markdown",
      "metadata": {
        "id": "GkkCMqGyL7fu"
      },
      "source": [
        "Decobrir o tamanho  da lista e sortear uma palavra da lista"
      ]
    },
    {
      "cell_type": "code",
      "metadata": {
        "id": "ZqSBza3-M3Lw"
      },
      "source": [
        "pl = len(palavras) # Descobrir a quantidade de palavras dentro da variável palavras\n",
        "\n",
        "p = randint(0, (pl -1)) # Sorteando a posição da palavra"
      ],
      "execution_count": 43,
      "outputs": []
    },
    {
      "cell_type": "markdown",
      "metadata": {
        "id": "re8_kDrMM-gl"
      },
      "source": [
        "Arquivar a palavra sorteada em uma variável"
      ]
    },
    {
      "cell_type": "code",
      "metadata": {
        "id": "MBbNMWuvNLcp"
      },
      "source": [
        "pa =palavras[p] # Guardando a palavra sorteada na variável pa"
      ],
      "execution_count": 44,
      "outputs": []
    },
    {
      "cell_type": "markdown",
      "metadata": {
        "id": "U2YfGRhgNU2W"
      },
      "source": [
        "Descobrir o tamanho da palavra e definir o tamanho do espaço de acordo com o tamnaho da variável"
      ]
    },
    {
      "cell_type": "code",
      "metadata": {
        "colab": {
          "base_uri": "https://localhost:8080/"
        },
        "id": "1n2QAnj0Ndsk",
        "outputId": "850d8335-e5cf-4382-8937-6630feaef031"
      },
      "source": [
        "print(len(pa)) # Descobrindo quantas letras a palavra tem\n",
        "pa.split()\n",
        "espaço = ' _ ' * len(pa) # Desenhando o espaço para colocar as letras\n",
        "print(espaço)\n"
      ],
      "execution_count": 49,
      "outputs": [
        {
          "output_type": "stream",
          "text": [
            "7\n",
            " _  _  _  _  _  _  _ \n"
          ],
          "name": "stdout"
        }
      ]
    },
    {
      "cell_type": "markdown",
      "metadata": {
        "id": "RaqoLslBN2CZ"
      },
      "source": [
        "Solicitar uma letra para o usuário"
      ]
    },
    {
      "cell_type": "code",
      "metadata": {
        "colab": {
          "base_uri": "https://localhost:8080/"
        },
        "id": "SSvcjBNON884",
        "outputId": "2cdf7569-2890-4334-d2bb-e3b9690b1d94"
      },
      "source": [
        "letra = str(input('Digite a letra que deseja jogar: '))"
      ],
      "execution_count": 65,
      "outputs": [
        {
          "output_type": "stream",
          "text": [
            "Digite a letra que deseja jogar: a\n"
          ],
          "name": "stdout"
        }
      ]
    },
    {
      "cell_type": "markdown",
      "metadata": {
        "id": "anTVWF1BOL91"
      },
      "source": [
        "Descobrir se a letra está ou não na palavra e em que posição ela está."
      ]
    },
    {
      "cell_type": "code",
      "metadata": {
        "colab": {
          "base_uri": "https://localhost:8080/"
        },
        "id": "pqAv9__YOgFX",
        "outputId": "2e34acf8-6c0e-48bb-85e9-b8f59bf6f649"
      },
      "source": [
        "if letra in pa:\n",
        "  print(f'A letra {letra} aparece na palavra, {pa.count(letra)} vezes (ou vez)') # Usado para descobrir a quantidade de letra encontrada\n",
        "else:\n",
        "  print(f'A letra {letra} não aparece na palavra.') "
      ],
      "execution_count": 67,
      "outputs": [
        {
          "output_type": "stream",
          "text": [
            "A letra a aparece na palavra, 2 vezes (ou vez)\n"
          ],
          "name": "stdout"
        }
      ]
    }
  ]
}