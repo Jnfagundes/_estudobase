{
  "nbformat": 4,
  "nbformat_minor": 0,
  "metadata": {
    "colab": {
      "name": "Jogo.ipynb",
      "provenance": [],
      "collapsed_sections": [],
      "authorship_tag": "ABX9TyMrKgGGBjQq9rp2CC/vzwSd",
      "include_colab_link": true
    },
    "kernelspec": {
      "name": "python3",
      "display_name": "Python 3"
    },
    "language_info": {
      "name": "python"
    }
  },
  "cells": [
    {
      "cell_type": "markdown",
      "metadata": {
        "id": "view-in-github",
        "colab_type": "text"
      },
      "source": [
        "<a href=\"https://colab.research.google.com/github/Jnfagundes/_portifolio/blob/master/Jogo.ipynb\" target=\"_parent\"><img src=\"https://colab.research.google.com/assets/colab-badge.svg\" alt=\"Open In Colab\"/></a>"
      ]
    },
    {
      "cell_type": "markdown",
      "metadata": {
        "id": "woWiCXifLRp5"
      },
      "source": [
        "Importação da biblioteca e criação da lista de palavras"
      ]
    },
    {
      "cell_type": "code",
      "metadata": {
        "id": "AzkDx6OgLQQ0"
      },
      "source": [
        "from random import randint\n",
        "\n",
        "palavras = ['sapato',  'cachorro',  'carimbo', 'caminhar', 'cansado', 'andando', 'felicidade', 'macaco', 'mamifero', 'aclamado', 'sorrateiro', 'palpite',\n",
        "            'girafa', 'pato', 'sofrimento', 'fazenda', 'livro', 'grande', 'granito']"
      ],
      "execution_count": null,
      "outputs": []
    },
    {
      "cell_type": "markdown",
      "metadata": {
        "id": "GkkCMqGyL7fu"
      },
      "source": [
        "Decobrir o tamanho  da lista e sortear uma palavra da lista"
      ]
    },
    {
      "cell_type": "code",
      "metadata": {
        "id": "ZqSBza3-M3Lw"
      },
      "source": [
        "pl = len(palavras) # Descobrir a quantidade de palavras dentro da variável palavras\n",
        "\n",
        "p = randint(0, (pl -1)) # Sorteando a posição da palavra"
      ],
      "execution_count": 93,
      "outputs": []
    },
    {
      "cell_type": "markdown",
      "metadata": {
        "id": "re8_kDrMM-gl"
      },
      "source": [
        "Arquivar a palavra sorteada em uma variável"
      ]
    },
    {
      "cell_type": "code",
      "metadata": {
        "id": "MBbNMWuvNLcp"
      },
      "source": [
        "pa =palavras[p] # Guardando a palavra sorteada na variável pa"
      ],
      "execution_count": 94,
      "outputs": []
    },
    {
      "cell_type": "markdown",
      "metadata": {
        "id": "mC3nO6Q6biWi"
      },
      "source": [
        "Colocando cada letra da palavra em uma lista"
      ]
    },
    {
      "cell_type": "code",
      "metadata": {
        "id": "ONJCWF2mbsIA"
      },
      "source": [
        "palavra_secreta = [] # Criando uma lista vazia para receber cada letra da palavra secreta\n",
        "for i in pa:\n",
        "  palavra_secreta.append(i)\n",
        "#print(palavra_secreta)"
      ],
      "execution_count": 95,
      "outputs": []
    },
    {
      "cell_type": "markdown",
      "metadata": {
        "id": "U2YfGRhgNU2W"
      },
      "source": [
        "Descobrir o tamanho da palavra e definir o tamanho do espaço de acordo com o tamnaho da variável"
      ]
    },
    {
      "cell_type": "code",
      "metadata": {
        "colab": {
          "base_uri": "https://localhost:8080/"
        },
        "id": "1n2QAnj0Ndsk",
        "outputId": "710ae9d2-0214-4225-8ca3-d5b8db7003ae"
      },
      "source": [
        "print(f'A palavra secreta possui {len(pa)} letras.') # Descobrindo quantas letras a palavra tem\n",
        "espaço = []\n",
        "espaço.append(' _ ' * len(pa)) # Desenhando o espaço para colocar as letras\n",
        "print(espaço)\n"
      ],
      "execution_count": 96,
      "outputs": [
        {
          "output_type": "stream",
          "text": [
            "A palavra secreta possui 8 letras.\n",
            "[' _  _  _  _  _  _  _  _ ']\n"
          ],
          "name": "stdout"
        }
      ]
    },
    {
      "cell_type": "markdown",
      "metadata": {
        "id": "RaqoLslBN2CZ"
      },
      "source": [
        "Solicitar uma letra para o usuário"
      ]
    },
    {
      "cell_type": "code",
      "metadata": {
        "colab": {
          "base_uri": "https://localhost:8080/"
        },
        "id": "SSvcjBNON884",
        "outputId": "766c546c-ed78-4b31-9f6d-2018ec5d5e22"
      },
      "source": [
        "letra = str(input('Digite a letra que deseja jogar: '))"
      ],
      "execution_count": 97,
      "outputs": [
        {
          "output_type": "stream",
          "text": [
            "Digite a letra que deseja jogar: a\n"
          ],
          "name": "stdout"
        }
      ]
    },
    {
      "cell_type": "markdown",
      "metadata": {
        "id": "anTVWF1BOL91"
      },
      "source": [
        "Descobrir se a letra está ou não na palavra e em que posição ela está."
      ]
    },
    {
      "cell_type": "code",
      "metadata": {
        "colab": {
          "base_uri": "https://localhost:8080/"
        },
        "id": "pqAv9__YOgFX",
        "outputId": "b78e624a-8f28-430c-f2c5-96ebd6cf97a9"
      },
      "source": [
        "if letra in pa:\n",
        "  print(f'A letra {letra} aparece na palavra, {pa.count(letra)} vezes (ou vez)') # Usado para descobrir a quantidade de letra encontrada\n",
        "else:\n",
        "  print(f'A letra {letra} não aparece na palavra.') "
      ],
      "execution_count": 98,
      "outputs": [
        {
          "output_type": "stream",
          "text": [
            "A letra a aparece na palavra, 3 vezes (ou vez)\n"
          ],
          "name": "stdout"
        }
      ]
    },
    {
      "cell_type": "markdown",
      "metadata": {
        "id": "StcfHuS5ZLkE"
      },
      "source": [
        "Encontrando o local onde a letra aparece"
      ]
    },
    {
      "cell_type": "code",
      "metadata": {
        "colab": {
          "base_uri": "https://localhost:8080/"
        },
        "id": "6CFpOXlnZP2i",
        "outputId": "68aa5766-818c-4bc3-f499-f227b4663562"
      },
      "source": [
        "for p, t in enumerate(palavra_secreta):\n",
        "  if t == letra:\n",
        "     print(f'posição {p} valor {t}')   \n",
        "    "
      ],
      "execution_count": 109,
      "outputs": [
        {
          "output_type": "stream",
          "text": [
            "posição 0 valor a\n",
            "posição 3 valor a\n",
            "posição 5 valor a\n"
          ],
          "name": "stdout"
        }
      ]
    },
    {
      "cell_type": "markdown",
      "metadata": {
        "id": "u9XIESije79o"
      },
      "source": [
        "Substituindo o espaço pela letra escolhida"
      ]
    },
    {
      "cell_type": "code",
      "metadata": {
        "id": "PpSnrro2fDJG"
      },
      "source": [
        " espaço.pop(p)\n",
        " "
      ],
      "execution_count": null,
      "outputs": []
    }
  ]
}