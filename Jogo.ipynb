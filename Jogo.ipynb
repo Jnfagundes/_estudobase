{
  "nbformat": 4,
  "nbformat_minor": 0,
  "metadata": {
    "colab": {
      "name": "Jogo.ipynb",
      "provenance": [],
      "authorship_tag": "ABX9TyNA2r0UGM6cn10JDpRlVXOu",
      "include_colab_link": true
    },
    "kernelspec": {
      "name": "python3",
      "display_name": "Python 3"
    },
    "language_info": {
      "name": "python"
    }
  },
  "cells": [
    {
      "cell_type": "markdown",
      "metadata": {
        "id": "view-in-github",
        "colab_type": "text"
      },
      "source": [
        "<a href=\"https://colab.research.google.com/github/Jnfagundes/_portifolio/blob/master/Jogo.ipynb\" target=\"_parent\"><img src=\"https://colab.research.google.com/assets/colab-badge.svg\" alt=\"Open In Colab\"/></a>"
      ]
    },
    {
      "cell_type": "code",
      "metadata": {
        "colab": {
          "base_uri": "https://localhost:8080/"
        },
        "id": "XLpcGms6Phty",
        "outputId": "f9cf9607-1754-4cb7-8346-d9e201e7ccdd"
      },
      "source": [
        "from random import randint\n",
        "\n",
        "palavras = ['sapato',  'cachorro',  'carimbo', 'caminhar', 'cansado', 'andando', 'felicidade', 'macaco', 'mamifero', 'aclamado']\n",
        "\n",
        "pl = len(palavras) # Descobrir a quantidade de palavras dentro da variável palavras\n",
        "\n",
        "p = randint(0, (pl -1)) # Sorteando a posição da palavra\n",
        "\n",
        "pa =palavras[p] # Guardando a palavra sorteada na variável pa\n",
        "print(len(pa)) # Descobrindo quantas letras a palavra tem\n",
        "espaço = ' _ ' * len(pa) # Desenhando o espaço para colocar as letras\n",
        "print(espaço)\n",
        "\n",
        "letra = str(input('Digite a letra que deseja jogar: ')) \n",
        "letra in pa\n",
        "#print(pa)\n",
        "\n"
      ],
      "execution_count": 41,
      "outputs": [
        {
          "output_type": "stream",
          "text": [
            "8\n",
            " _  _  _  _  _  _  _  _ \n",
            "Digite a letra que deseja jogar: a\n"
          ],
          "name": "stdout"
        },
        {
          "output_type": "execute_result",
          "data": {
            "text/plain": [
              "True"
            ]
          },
          "metadata": {
            "tags": []
          },
          "execution_count": 41
        }
      ]
    }
  ]
}