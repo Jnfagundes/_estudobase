{
  "nbformat": 4,
  "nbformat_minor": 0,
  "metadata": {
    "colab": {
      "name": "Praticando .ipynb",
      "provenance": [],
      "collapsed_sections": [],
      "authorship_tag": "ABX9TyPkngIfo/jf3gB+5k52jbKR",
      "include_colab_link": true
    },
    "kernelspec": {
      "name": "python3",
      "display_name": "Python 3"
    },
    "language_info": {
      "name": "python"
    }
  },
  "cells": [
    {
      "cell_type": "markdown",
      "metadata": {
        "id": "view-in-github",
        "colab_type": "text"
      },
      "source": [
        "<a href=\"https://colab.research.google.com/github/Jnfagundes/_portifolio/blob/master/Praticando_.ipynb\" target=\"_parent\"><img src=\"https://colab.research.google.com/assets/colab-badge.svg\" alt=\"Open In Colab\"/></a>"
      ]
    },
    {
      "cell_type": "code",
      "metadata": {
        "colab": {
          "base_uri": "https://localhost:8080/"
        },
        "id": "OZ9Mr-GhUGkG",
        "outputId": "9aecce01-8214-48ae-b9b2-2e6acf3852db"
      },
      "source": [
        "print('treino') \n",
        "\n",
        "printprint('Somando dois valores')\n",
        "n1 = int(input('Digite um número: '))\n",
        "n2 = int(input('Digite outro número: '))\n",
        "soma = n1 + n2\n",
        "print(f'A soma de {n1} com {n2} é igual {soma}')\n",
        "print(f'A média é {(n1+n2)/2}')\n"
      ],
      "execution_count": null,
      "outputs": [
        {
          "output_type": "stream",
          "text": [
            "Somando dois valores\n",
            "Digite um número: 25\n",
            "Digite outro número: 67\n",
            "A soma de 25 com 67 é igual 92\n",
            "A média é 46.0\n"
          ],
          "name": "stdout"
        }
      ]
    },
    {
      "cell_type": "code",
      "metadata": {
        "colab": {
          "base_uri": "https://localhost:8080/"
        },
        "id": "akKSIG22Uvlt",
        "outputId": "6f0bb46a-e49f-4b56-f67e-e26fca7359f2"
      },
      "source": [
        "print('Analisando um dado')\n",
        "algo = input('digite algo'  )\n",
        "print(f'O tipo primitivo desse algo é {type(algo)}')\n",
        "print(f'Tem espaços?  {algo.isspace()}')\n",
        "print(f'É númerico? {algo.isnumeric()}')\n",
        "print(f'É alfabético? {algo.isalpha()}')\n",
        "print(f'É alfanumérico? {algo.isalnum()}')\n",
        "print(f'Está em maiuscula? {algo.isupper()}')\n",
        "print(f'Está em minúsculo? {algo.islower()}')\n"
      ],
      "execution_count": null,
      "outputs": [
        {
          "output_type": "stream",
          "text": [
            "Analisando um dado\n",
            "digite algodado\n",
            "O tipo primitivo desse algo é <class 'str'>\n",
            "Tem espaços?  False\n",
            "É númerico? False\n",
            "É alfabético? True\n",
            "É alfanumérico? True\n",
            "Está em maiuscula? False\n",
            "Está em minúsculo? True\n"
          ],
          "name": "stdout"
        }
      ]
    },
    {
      "cell_type": "code",
      "metadata": {
        "colab": {
          "base_uri": "https://localhost:8080/"
        },
        "id": "Ks2nNJ_ZZG0I",
        "outputId": "9f336cb1-bcd3-403a-88a3-2667d4ed49cf"
      },
      "source": [
        "print('Antecessor e sucessor')\n",
        "n = int(input('Digite um valor do tipo inteiro: '))\n",
        "a = n - 1\n",
        "su = n + 1\n",
        "print(f' O número digitado é {n}, seu antecessor é {a} e seu sucessor é {su}')"
      ],
      "execution_count": null,
      "outputs": [
        {
          "output_type": "stream",
          "text": [
            "Antecessor e sucessor\n",
            "Digite um valor do tipo inteiro: 55\n",
            " O número digitado é 55, seu antecessor é 54 e seu sucessor é 56\n"
          ],
          "name": "stdout"
        }
      ]
    },
    {
      "cell_type": "code",
      "metadata": {
        "colab": {
          "base_uri": "https://localhost:8080/"
        },
        "id": "maECNDolZ20u",
        "outputId": "9c74601e-1cbf-47ff-845a-815c329068cc"
      },
      "source": [
        "print('Dobro, triplo e raiz quadrada')\n",
        "n = int(input('Digite um valor do tipo inteiro: '))\n",
        "print(f'Seu dobro é {n*2} ' )\n",
        "print(f'Seu triplo é {n*3} ')\n",
        "print(f'Sua raiz quadrada é {n**(1/2)}')"
      ],
      "execution_count": null,
      "outputs": [
        {
          "output_type": "stream",
          "text": [
            "Dobro, triplo e raiz quadrada\n",
            "Digite um valor do tipo inteiro: 9\n",
            "Seu dobro é 18 \n",
            "Seu triplo é 27 \n",
            "Sua raiz quadrada é 3.0\n"
          ],
          "name": "stdout"
        }
      ]
    },
    {
      "cell_type": "code",
      "metadata": {
        "colab": {
          "base_uri": "https://localhost:8080/"
        },
        "id": "SRQRZx_fS0j3",
        "outputId": "b693ac94-3821-451b-ad5f-f6ed36e79f1d"
      },
      "source": [
        "print('Conversor')\n",
        "m = float(input('Digite um valor em metros: '))\n",
        "print(f'{m}m equivale a {m * 100}cm  ')\n",
        "print(f'{m}m equivale a {m*1000}mm')"
      ],
      "execution_count": null,
      "outputs": [
        {
          "output_type": "stream",
          "text": [
            "Conversor\n",
            "Digite um valor em metros: 3.5\n",
            "3.5m equivale a 350.0cm  \n",
            "3.5m equivale a 3500.0mm\n"
          ],
          "name": "stdout"
        }
      ]
    },
    {
      "cell_type": "code",
      "metadata": {
        "colab": {
          "base_uri": "https://localhost:8080/"
        },
        "id": "Ownwm-CuTgwW",
        "outputId": "b5a1eeb2-c164-4362-b226-4a360e1c009b"
      },
      "source": [
        "from random import randint \n",
        "print('Tabuada')\n",
        "num = int(input('Digite o valor do qual deseja saber a tabuada:  '))\n",
        "print('''Escolha uma opção:,\n",
        "          1 -> soma,\n",
        "          2 -> subtração,\n",
        "          3 -> divisão,\n",
        "          4 -> multiplicação''')\n",
        "operação = int(input('Qual operação deseja realizar?  '))\n",
        "if operação == 1: # Se operação for igual a 1 faça\n",
        "  for n in range(0,11): # Para n dentro do range que começa em 0 e vai até 10 faça\n",
        "    print(f'{num} + {n} = {num + n}') # Imprima num + n\n",
        "\n",
        "elif operação == 2:\n",
        "  for n in range(0,11):\n",
        "    print(f'{num} - {n} = {num - n}')\n",
        "  \n",
        "elif operação == 3:\n",
        "  for n in range(0,11):\n",
        "    print(f'{num} / {n} = {num // n}')  \n",
        "\n",
        "else:\n",
        "  for n in range(0,11):\n",
        "    print(f'{num} * {n} = {num * n}')\n"
      ],
      "execution_count": null,
      "outputs": [
        {
          "output_type": "stream",
          "text": [
            "Tabuada\n",
            "Digite o valor do qual deseja saber a tabuada:  2\n",
            "Escolha uma opção:,\n",
            "          1 -> soma,\n",
            "          2 -> subtração,\n",
            "          3 -> divisão,\n",
            "          4 -> multiplicação\n",
            "Qual operação deseja realizar?  1\n",
            "2 + 0 = 2\n",
            "2 + 1 = 3\n",
            "2 + 2 = 4\n",
            "2 + 3 = 5\n",
            "2 + 4 = 6\n",
            "2 + 5 = 7\n",
            "2 + 6 = 8\n",
            "2 + 7 = 9\n",
            "2 + 8 = 10\n",
            "2 + 9 = 11\n",
            "2 + 10 = 12\n"
          ],
          "name": "stdout"
        }
      ]
    },
    {
      "cell_type": "code",
      "metadata": {
        "colab": {
          "base_uri": "https://localhost:8080/"
        },
        "id": "Gd99cNs2o434",
        "outputId": "8c375713-a0fe-4d4a-f6c5-1e8dd58cd2b5"
      },
      "source": [
        "import math\n",
        "nu = float(input('Digite um valor do tipo real: '))\n",
        "print(f'O número {nu} tem {math.trunc(nu)} como sua parte inteira.')\n",
        "print(f'O número {nu} tem {int(nu)} como sua parte inteira.')\n"
      ],
      "execution_count": null,
      "outputs": [
        {
          "output_type": "stream",
          "text": [
            "Digite um valor do tipo real: 9.32\n",
            "O número 9.32 tem 9 como sua parte inteira.\n",
            "O número 9.32 tem 9 como sua parte inteira.\n"
          ],
          "name": "stdout"
        }
      ]
    },
    {
      "cell_type": "code",
      "metadata": {
        "colab": {
          "base_uri": "https://localhost:8080/"
        },
        "id": "nrFwKBW_16c3",
        "outputId": "24f0765a-2bfd-4d32-ca91-467778660ef8"
      },
      "source": [
        "print('Calculando o comprimento da hipotenusa')\n",
        "a = float(input('Digite o valor do cateto oposto: '))\n",
        "b = float(input('Digite o valor do cateto adjacente: '))\n",
        "h = ((a*a) +(b*b)) ** (1/2)\n",
        "print(f'O comprimento da hipotenusa é: {h}')\n",
        "print(f'O comprimento da hipotenusa é: {((a*a)+(b*b)) ** (1/2)}')\n"
      ],
      "execution_count": null,
      "outputs": [
        {
          "output_type": "stream",
          "text": [
            "Calculando o comprimento da hipotenusa\n",
            "Digite o valor do cateto oposto: 9\n",
            "Digite o valor do cateto adjacente: 12\n",
            "O comprimento da hipotenusa é: 15.0\n",
            "O comprimento da hipotenusa é: 15.0\n"
          ],
          "name": "stdout"
        }
      ]
    },
    {
      "cell_type": "code",
      "metadata": {
        "colab": {
          "base_uri": "https://localhost:8080/"
        },
        "id": "eYxA3d2JBbH3",
        "outputId": "5bfa3ffe-dca8-4a14-928a-1d28f7f7c244"
      },
      "source": [
        "import random\n",
        "print('Sorteando um nome ')\n",
        "alunos = []\n",
        "a = 0\n",
        "while a < 4:\n",
        "  aluno = str(input('Digite o nome do aluno:  '))\n",
        "  alunos.append(aluno)\n",
        "  print(f'O {a+1}º aluno é {aluno}')\n",
        "  a = a + 1\n",
        "escolhido = random.choice(alunos) # O método choice() escolhe algo dentro de uma lista\n",
        "\n",
        "print('========== Escolhendo =============')\n",
        "print(f'O escolhido(a) foi {escolhido}')"
      ],
      "execution_count": null,
      "outputs": [
        {
          "output_type": "stream",
          "text": [
            "Sorteando um nome \n",
            "Digite o nome do aluno:  José \n",
            "O 1º aluno é José \n",
            "Digite o nome do aluno:  Allan\n",
            "O 2º aluno é Allan\n",
            "Digite o nome do aluno:  Thalita\n",
            "O 3º aluno é Thalita\n",
            "Digite o nome do aluno:  Agatha\n",
            "O 4º aluno é Agatha\n",
            "========== Escolhendo =============\n",
            "O escolhido(a) foi Allan\n"
          ],
          "name": "stdout"
        }
      ]
    },
    {
      "cell_type": "code",
      "metadata": {
        "colab": {
          "base_uri": "https://localhost:8080/"
        },
        "id": "lxPUrWsEILxj",
        "outputId": "f0aea26c-da92-406f-e990-1345538a7dc7"
      },
      "source": [
        "import random\n",
        "print('Sorteando um nome ')\n",
        "alunos = []\n",
        "a = 0\n",
        "while a < 4:\n",
        "  aluno = str(input('Digite o nome do aluno:  '))\n",
        "  alunos.append(aluno)\n",
        "  print(f'O {a+1}º aluno é {aluno}')\n",
        "  a = a + 1\n",
        "random.shuffle(alunos) # O método shuffle() embaralha os valores da lista\n",
        "print(f'A ordem de apresentação será {alunos}')"
      ],
      "execution_count": null,
      "outputs": [
        {
          "output_type": "stream",
          "text": [
            "Sorteando um nome \n",
            "Digite o nome do aluno:  José \n",
            "O 1º aluno é José \n",
            "Digite o nome do aluno:  Allan\n",
            "O 2º aluno é Allan\n",
            "Digite o nome do aluno:  Thalita\n",
            "O 3º aluno é Thalita\n",
            "Digite o nome do aluno:  Agatha\n",
            "O 4º aluno é Agatha\n",
            "A ordem de apresentação será ['Thalita', 'Allan', 'Agatha', 'José ']\n"
          ],
          "name": "stdout"
        }
      ]
    },
    {
      "cell_type": "code",
      "metadata": {
        "colab": {
          "base_uri": "https://localhost:8080/"
        },
        "id": "rtjEW88ErRsS",
        "outputId": "c5080b59-f00b-4b22-9092-0d888f902466"
      },
      "source": [
        "print('Análise de textos')\n",
        "nome = str(input(\"Digite seu nome completo: \")).strip()\n",
        "print(nome.upper())\n",
        "print(nome.lower())\n",
        "print(f'Seu nome tem {len(nome)- nome.count(\" \")} letras')\n",
        "print(f'Seu primeiro nome tem {nome.find(\" \")} letras ')\n",
        "separa = nome.split() # Usado para separar cada palavra e coloca-la em uma lista\n",
        "print(f'Seu primeiro nome é {separa[0]} e ele tem {len(separa[0])} letras. ')"
      ],
      "execution_count": null,
      "outputs": [
        {
          "output_type": "stream",
          "text": [
            "Análise de textos\n",
            "Digite seu nome completo: José Nilton do Nascimento Fagundes\n",
            "JOSÉ NILTON DO NASCIMENTO FAGUNDES\n",
            "josé nilton do nascimento fagundes\n",
            "Seu nome tem 30 letras\n",
            "Seu primeiro nome tem 4 letras \n",
            "Seu primeiro nome é José e ele tem 4 letras. \n"
          ],
          "name": "stdout"
        }
      ]
    },
    {
      "cell_type": "code",
      "metadata": {
        "colab": {
          "base_uri": "https://localhost:8080/"
        },
        "id": "iLHc4xyQd750",
        "outputId": "f0f11dad-39cc-4a7e-ce6c-95806221491e"
      },
      "source": [
        "print('Analisando números')\n",
        "nu = int(input('Digite um número: '))\n",
        "\n",
        "print(f'Sua unidade é: {nu // 1 % 10}')\n",
        "print(f'Sua dezena é: {nu //10 % 10}')\n",
        "print(f'Sua centena é: {nu // 100 % 10}')\n",
        "print(f'Seu milhar é: {nu // 1000 % 10}')"
      ],
      "execution_count": null,
      "outputs": [
        {
          "output_type": "stream",
          "text": [
            "Analisando números\n",
            "Digite um número: 12\n",
            "Sua unidade é: 2\n",
            "Sua dezena é: 1\n",
            "Sua centena é: 0\n",
            "Seu milhar é: 0\n"
          ],
          "name": "stdout"
        }
      ]
    },
    {
      "cell_type": "code",
      "metadata": {
        "colab": {
          "base_uri": "https://localhost:8080/"
        },
        "id": "4h-RKqZOhfj_",
        "outputId": "d9e680e3-47fa-4adf-8477-2089970f9155"
      },
      "source": [
        "import random\n",
        "print('Jogo da advinhação')\n",
        "pc = random.randint(0, 5) # Aqui será sorteado um valor entre 0 e 5\n",
        "print('Estou pensando em um número entre 0 e 10, consegue adivinhar qual? ')\n",
        "chute = int(input('Qual número estou pensando? '))\n",
        "if chute == pc:\n",
        "  print(f'Parabéns você acertou')\n",
        "else:\n",
        "  print(f'Que pena, errou. Eu pensei no número {pc}')  \n"
      ],
      "execution_count": null,
      "outputs": [
        {
          "output_type": "stream",
          "text": [
            "Jogo da advinhação\n",
            "Estou pensando em um número entre 0 e 10, consegue adivinhar qual? \n",
            "Qual número estou pensando? 5\n",
            "Parabéns você acertou\n"
          ],
          "name": "stdout"
        }
      ]
    },
    {
      "cell_type": "code",
      "metadata": {
        "id": "qhmURtiXj9IZ",
        "colab": {
          "base_uri": "https://localhost:8080/"
        },
        "outputId": "c296796d-6acd-42b5-a5b8-af6dcb38da80"
      },
      "source": [
        "print('Calculando multa de trânsito')\n",
        "velocidade = float(input('Digite a velocidade atingida pelo veículo:  '))\n",
        "multa = velocidade - 80\n",
        "if velocidade > 80:\n",
        "  print(f'Sua velocidade está acima do pemitido. Você está a {velocidade}km/h')\n",
        "  print(f'Sua multa será de R${multa}')\n",
        "else:\n",
        "  print(f'Sua velocidade é {velocidade}km/h')  "
      ],
      "execution_count": null,
      "outputs": [
        {
          "output_type": "stream",
          "text": [
            "Calculando multa de trânsito\n",
            "Digite a velocidade atingida pelo veículo:  70\n",
            "Sua velocidade é 70.0km/h\n"
          ],
          "name": "stdout"
        }
      ]
    },
    {
      "cell_type": "code",
      "metadata": {
        "colab": {
          "base_uri": "https://localhost:8080/"
        },
        "id": "KoWPsOni4lai",
        "outputId": "380de92b-62e3-41b5-e6d0-0a6791f00744"
      },
      "source": [
        "print('Par ou Ímpar')\n",
        "num = int(input('Digite um número: '))\n",
        "if (num % 2) == 0:\n",
        "  print(f'Você digitou o valor {num}, esse número é par')\n",
        "else:\n",
        "  print(f'Você digitou {num}, esse número é ímpar.')  "
      ],
      "execution_count": null,
      "outputs": [
        {
          "output_type": "stream",
          "text": [
            "Par ou Ímpar\n",
            "Digite um número: 10\n",
            "Você digitou o valor 10, esse número é par\n"
          ],
          "name": "stdout"
        }
      ]
    },
    {
      "cell_type": "code",
      "metadata": {
        "colab": {
          "base_uri": "https://localhost:8080/"
        },
        "id": "CbhP-xKTEEog",
        "outputId": "546ac584-8078-4e5d-836b-2977c75b7c3c"
      },
      "source": [
        "print('Calculo do preço de passagem')\n",
        "dis = float(input('Digite a distância percorrida:  '))\n",
        "if dis <= 200:\n",
        "  passagem = dis * 0.50\n",
        "  print(f'Sua viagem tem a distância de {dis}km. Sua passagem irá custar: R${passagem}')\n",
        "if dis > 200:\n",
        "  passagem = dis * 0.45\n",
        "  print(f'Sua viagem tem a distância de {dis}km. Sua passagem irá custar: R${passagem}') \n"
      ],
      "execution_count": null,
      "outputs": [
        {
          "output_type": "stream",
          "text": [
            "Calculo do preço de passagem\n",
            "Digite a distância percorrida:  300\n",
            "Sua viagem tem a distância de 300.0km. Sua passagem irá custar: R$135.0\n"
          ],
          "name": "stdout"
        }
      ]
    },
    {
      "cell_type": "code",
      "metadata": {
        "colab": {
          "base_uri": "https://localhost:8080/"
        },
        "id": "i2f1dQXTi86H",
        "outputId": "7166099e-7416-4aac-f5a0-1be8dde6bebe"
      },
      "source": [
        "print('Descobrir se o ano é bissexto')\n",
        "ano = int(input('Qual ano deseja descobrir?  '))\n",
        "if ano % 4 == 0 and ano % 100 != 0 or ano % 400 == 0:\n",
        "  print(f'O ano de {ano} é um ano bissexto.')\n",
        "else:\n",
        "  print(f'O ano de {ano} não é bissexto')  "
      ],
      "execution_count": null,
      "outputs": [
        {
          "output_type": "stream",
          "text": [
            "Descobrir se o ano é bissexto\n",
            "Qual ano deseja descobrir?  2021\n",
            "O ano de 2021 não é bissexto\n"
          ],
          "name": "stdout"
        }
      ]
    },
    {
      "cell_type": "code",
      "metadata": {
        "colab": {
          "base_uri": "https://localhost:8080/"
        },
        "id": "LhQe1foylAHA",
        "outputId": "cebcc62b-c503-4c88-e097-331416b7829f"
      },
      "source": [
        "print('Identificação de números')\n",
        "nu1 = int(input('Digite um valor inteiro: '))\n",
        "nu2 = int(input('Digite um segundo número: '))\n",
        "nu3 = int(input('Digite o terceiro número: '))\n",
        "if nu1 > nu2 and nu1 > nu3:\n",
        "  print(f'O número {nu1} é o maior deles.')\n",
        "elif nu2 > nu1 and nu2 > nu3:\n",
        "  print(f'O número {nu2} é o maior deles.')\n",
        "else:\n",
        "  print(f'O número {nu3} é o maior deles.')  \n",
        "\n",
        "if nu1 < nu2 and nu1 < nu3:\n",
        "  print(f'O número {nu1} é o menor deles.')\n",
        "elif nu2 < nu1 and nu2 < nu3:\n",
        "  print(f'O número {nu2} é o menor deles.')\n",
        "else:\n",
        "  print(f'O número {nu3} é o menor deles.')    \n"
      ],
      "execution_count": null,
      "outputs": [
        {
          "output_type": "stream",
          "text": [
            "Identificação de números\n",
            "Digite um valor inteiro: 4\n",
            "Digite um segundo número: 7\n",
            "Digite o terceiro número: 1\n",
            "O número 7 é o maior deles.\n",
            "O número 1 é o menor deles.\n"
          ],
          "name": "stdout"
        }
      ]
    },
    {
      "cell_type": "code",
      "metadata": {
        "colab": {
          "base_uri": "https://localhost:8080/"
        },
        "id": "k7ZOAwRusoMq",
        "outputId": "1dd32567-0979-42a8-e308-64ac7e7c4dfd"
      },
      "source": [
        "print('Outra forma de resolver identificação de números.')\n",
        "a = int(input('Digite um valor inteiro: '))\n",
        "b = int(input('Digite um segundo número: '))\n",
        "c = int(input('Digite o terceiro número: '))\n",
        "menor = a\n",
        "if b < a and b < c:\n",
        "  menor = b\n",
        "elif c < a and c < b:\n",
        "  menor = c\n",
        "print(f'O menor valor digitado é {menor}')\n",
        "\n",
        "maior = a\n",
        "if b > a and b > c:\n",
        "  maior = b\n",
        "elif c > a and c > b:\n",
        "  maior = c\n",
        "print(f'O maior valor digitado é {maior}')  \n",
        "\n",
        "\n"
      ],
      "execution_count": null,
      "outputs": [
        {
          "output_type": "stream",
          "text": [
            "Outra forma de resolver identificação de números.\n",
            "Digite um valor inteiro: 4\n",
            "Digite um segundo número: 7\n",
            "Digite o terceiro número: 1\n",
            "O menor valor digitado é 1\n",
            "O maior valor digitado é 7\n"
          ],
          "name": "stdout"
        }
      ]
    },
    {
      "cell_type": "code",
      "metadata": {
        "colab": {
          "base_uri": "https://localhost:8080/"
        },
        "id": "qozD0Gm3uM4L",
        "outputId": "1aeb0d2b-692a-49b3-b1ed-fc0fa635778d"
      },
      "source": [
        "print('Novo salário')\n",
        "salario = float(input('Digite o salário atual: '))\n",
        "print(f'O salário atual é R${salario}')\n",
        "if salario <= 1250:\n",
        "  salario_novo = (salario * (10/100)) + salario\n",
        "else:\n",
        "  salario_novo = (salario * (15/100)) + salario\n",
        "\n",
        "print(f'O novo salário é R${salario_novo}')\n"
      ],
      "execution_count": null,
      "outputs": [
        {
          "output_type": "stream",
          "text": [
            "Novo salário\n",
            "Digite o salário atual: 2000\n",
            "O salário atual é R$2000.0\n",
            "O novo salário é R$2300.0\n"
          ],
          "name": "stdout"
        }
      ]
    },
    {
      "cell_type": "code",
      "metadata": {
        "colab": {
          "base_uri": "https://localhost:8080/"
        },
        "id": "uJkEAk1ZpJRB",
        "outputId": "622f1ac9-dd23-44a1-95ec-fcc811ca9c12"
      },
      "source": [
        "print('Financiamento de um imóvel.')\n",
        "casa = float(input('Qual o valor do imóvel que se desej financiar? '))\n",
        "salario = float(input('Qual o valor do seu salário? '))\n",
        "pagar = int(input('Em quantos meses deseja pagar?  '))\n",
        "ano = pagar / 12\n",
        "valor_mensal = casa / pagar\n",
        "porcentagem = salario * (30/100)\n",
        "if porcentagem >= valor_mensal:\n",
        "  print(f'Seu financiamento foi aprovado. Você pagará R${valor_mensal:.2f} por mês, durante {pagar} meses, equivalente a {ano} anos')\n",
        "else: \n",
        "  print(f'Seu financiamento não foi aprovado. O parcelamento ultrapassa o limite de 30% do seu salário.')\n"
      ],
      "execution_count": null,
      "outputs": [
        {
          "output_type": "stream",
          "text": [
            "Financiamento de um imóvel.\n",
            "Qual o valor do imóvel que se desej financiar? 80000\n",
            "Qual o valor do seu salário? 3500\n",
            "Em quantos meses deseja pagar?  90\n",
            "Seu financiamento foi aprovado. Você pagará R$888.89 por mês, durante 90 meses, equivalente a 7.5 anos\n"
          ],
          "name": "stdout"
        }
      ]
    },
    {
      "cell_type": "code",
      "metadata": {
        "colab": {
          "base_uri": "https://localhost:8080/"
        },
        "id": "7QxUS1fJwkua",
        "outputId": "b1ac98a5-213d-46fb-8325-1376aae99276"
      },
      "source": [
        "import math\n",
        "print('Bases numéricas')\n",
        "num = int(input('Digite um valor do tipo inteiro: '))\n",
        "print('''Escolha uma das opções abaixo:\n",
        "              [1] base binária\n",
        "              [2] base hexadecimal\n",
        "              [3] base octal''')\n",
        "base = int(input('Qual é a sua opção? '))\n",
        "if base == 1:\n",
        "  print(f'O número {num} convertido para binário é: {bin(num)[2:]}')\n",
        "elif base == 2:\n",
        "  print(f'O número {num} convertido para hexadecimal é: {hex(num)[2:]}')\n",
        "elif base == 3:\n",
        "  print(f'O número {num} convertido para octal é: {oct(num)[2:]} ')   \n",
        "else: \n",
        "  print('Opção inválida, tente novamente.')   "
      ],
      "execution_count": null,
      "outputs": [
        {
          "output_type": "stream",
          "text": [
            "Bases numéricas\n",
            "Digite um valor do tipo inteiro: 543\n",
            "Escolha uma das opções abaixo:\n",
            "              [1] base binária\n",
            "              [2] base hexadecimal\n",
            "              [3] base octal\n",
            "Qual é a sua opção? 1\n",
            "O número 543 convertido para binário é: 1000011111\n"
          ],
          "name": "stdout"
        }
      ]
    },
    {
      "cell_type": "code",
      "metadata": {
        "colab": {
          "base_uri": "https://localhost:8080/"
        },
        "id": "yJ-OHVPoETnE",
        "outputId": "48819df8-7251-46a2-ac17-484e735a1a93"
      },
      "source": [
        "print('Calculo de galões')\n",
        "cont = 0\n",
        "galoes = 1\n",
        "while galoes <= 50:\n",
        "  litros = galoes * 3.45\n",
        "  print(f'Esses galões tem {litros}')\n",
        "  galoes = galoes + 1\n",
        "  cont = cont + 1\n",
        "\n",
        "  if cont == 10:\n",
        "    print()\n",
        "    cont = 0\n",
        "    "
      ],
      "execution_count": null,
      "outputs": [
        {
          "output_type": "stream",
          "text": [
            "Calculo de galões\n",
            "Esses galões tem 3.45\n",
            "Esses galões tem 6.9\n",
            "Esses galões tem 10.350000000000001\n",
            "Esses galões tem 13.8\n",
            "Esses galões tem 17.25\n",
            "Esses galões tem 20.700000000000003\n",
            "Esses galões tem 24.150000000000002\n",
            "Esses galões tem 27.6\n",
            "Esses galões tem 31.05\n",
            "Esses galões tem 34.5\n",
            "\n",
            "Esses galões tem 37.95\n",
            "Esses galões tem 41.400000000000006\n",
            "Esses galões tem 44.85\n",
            "Esses galões tem 48.300000000000004\n",
            "Esses galões tem 51.75\n",
            "Esses galões tem 55.2\n",
            "Esses galões tem 58.650000000000006\n",
            "Esses galões tem 62.1\n",
            "Esses galões tem 65.55\n",
            "Esses galões tem 69.0\n",
            "\n",
            "Esses galões tem 72.45\n",
            "Esses galões tem 75.9\n",
            "Esses galões tem 79.35000000000001\n",
            "Esses galões tem 82.80000000000001\n",
            "Esses galões tem 86.25\n",
            "Esses galões tem 89.7\n",
            "Esses galões tem 93.15\n",
            "Esses galões tem 96.60000000000001\n",
            "Esses galões tem 100.05000000000001\n",
            "Esses galões tem 103.5\n",
            "\n",
            "Esses galões tem 106.95\n",
            "Esses galões tem 110.4\n",
            "Esses galões tem 113.85000000000001\n",
            "Esses galões tem 117.30000000000001\n",
            "Esses galões tem 120.75\n",
            "Esses galões tem 124.2\n",
            "Esses galões tem 127.65\n",
            "Esses galões tem 131.1\n",
            "Esses galões tem 134.55\n",
            "Esses galões tem 138.0\n",
            "\n",
            "Esses galões tem 141.45000000000002\n",
            "Esses galões tem 144.9\n",
            "Esses galões tem 148.35\n",
            "Esses galões tem 151.8\n",
            "Esses galões tem 155.25\n",
            "Esses galões tem 158.70000000000002\n",
            "Esses galões tem 162.15\n",
            "Esses galões tem 165.60000000000002\n",
            "Esses galões tem 169.05\n",
            "Esses galões tem 172.5\n",
            "\n"
          ],
          "name": "stdout"
        }
      ]
    },
    {
      "cell_type": "code",
      "metadata": {
        "colab": {
          "base_uri": "https://localhost:8080/"
        },
        "id": "zFTwX62WwyyJ",
        "outputId": "a0334038-7385-4345-f17e-335b101cce75"
      },
      "source": [
        "from random import randint\n",
        "print('calculos de galoes com for')\n",
        "galoes = 1\n",
        "cont = 0\n",
        "for galoes in range(0,50):\n",
        "  litros = galoes * 3.45\n",
        "  print(f'Esses galões tem {litros}')\n",
        "  galoes = galoes + 1\n",
        "  cont = cont + 1\n",
        "  if cont == 10:\n",
        "    print()\n",
        "    cont = 0"
      ],
      "execution_count": null,
      "outputs": [
        {
          "output_type": "stream",
          "text": [
            "calculos de galoes com for\n",
            "Esses galões tem 0.0\n",
            "Esses galões tem 3.45\n",
            "Esses galões tem 6.9\n",
            "Esses galões tem 10.350000000000001\n",
            "Esses galões tem 13.8\n",
            "Esses galões tem 17.25\n",
            "Esses galões tem 20.700000000000003\n",
            "Esses galões tem 24.150000000000002\n",
            "Esses galões tem 27.6\n",
            "Esses galões tem 31.05\n",
            "\n",
            "Esses galões tem 34.5\n",
            "Esses galões tem 37.95\n",
            "Esses galões tem 41.400000000000006\n",
            "Esses galões tem 44.85\n",
            "Esses galões tem 48.300000000000004\n",
            "Esses galões tem 51.75\n",
            "Esses galões tem 55.2\n",
            "Esses galões tem 58.650000000000006\n",
            "Esses galões tem 62.1\n",
            "Esses galões tem 65.55\n",
            "\n",
            "Esses galões tem 69.0\n",
            "Esses galões tem 72.45\n",
            "Esses galões tem 75.9\n",
            "Esses galões tem 79.35000000000001\n",
            "Esses galões tem 82.80000000000001\n",
            "Esses galões tem 86.25\n",
            "Esses galões tem 89.7\n",
            "Esses galões tem 93.15\n",
            "Esses galões tem 96.60000000000001\n",
            "Esses galões tem 100.05000000000001\n",
            "\n",
            "Esses galões tem 103.5\n",
            "Esses galões tem 106.95\n",
            "Esses galões tem 110.4\n",
            "Esses galões tem 113.85000000000001\n",
            "Esses galões tem 117.30000000000001\n",
            "Esses galões tem 120.75\n",
            "Esses galões tem 124.2\n",
            "Esses galões tem 127.65\n",
            "Esses galões tem 131.1\n",
            "Esses galões tem 134.55\n",
            "\n",
            "Esses galões tem 138.0\n",
            "Esses galões tem 141.45000000000002\n",
            "Esses galões tem 144.9\n",
            "Esses galões tem 148.35\n",
            "Esses galões tem 151.8\n",
            "Esses galões tem 155.25\n",
            "Esses galões tem 158.70000000000002\n",
            "Esses galões tem 162.15\n",
            "Esses galões tem 165.60000000000002\n",
            "Esses galões tem 169.05\n",
            "\n"
          ],
          "name": "stdout"
        }
      ]
    },
    {
      "cell_type": "code",
      "metadata": {
        "id": "sOocGlARzIAq",
        "colab": {
          "base_uri": "https://localhost:8080/"
        },
        "outputId": "f03db9cb-a1d6-40b0-da20-15c874b5b243"
      },
      "source": [
        "print('Comparando números')\n",
        "n1 = int(input('Digite um valor: '))\n",
        "n2 = int(input('Digite um segundo valor: '))\n",
        "if n1 > n2:\n",
        "  print('O primeiro valor é maior que o segundo.')\n",
        "elif n1 < n2:\n",
        "  print('O segundo valor é maior que o primeiro.')\n",
        "else:\n",
        "  print('Os valores são iguais.')    "
      ],
      "execution_count": null,
      "outputs": [
        {
          "output_type": "stream",
          "text": [
            "Comparando números\n",
            "Digite um valor: 5\n",
            "Digite um segundo valor: 2\n",
            "O primeiro valor é maior que o segundo.\n"
          ],
          "name": "stdout"
        }
      ]
    },
    {
      "cell_type": "code",
      "metadata": {
        "colab": {
          "base_uri": "https://localhost:8080/"
        },
        "id": "Yi1cO35J63Ch",
        "outputId": "95fddb81-6f79-46f0-d5ea-a2f2d708bce7"
      },
      "source": [
        "from datetime import date\n",
        "print('Alistamento militar')\n",
        "data_atual = date.today().year\n",
        "nome = input('Qual o seu nome? ')\n",
        "data_nascimento = int(input('Em que ano você nasceu?  '))\n",
        "idade = data_atual - data_nascimento\n",
        "if idade < 18:\n",
        "  print(f'{nome}, você ainda tem {idade} anos, falta {18 - idade} anos para o seu alistamento.')\n",
        "elif idade == 18:\n",
        "  print(f'{nome} já está em tempo de alistar. ')\n",
        "else:\n",
        "  print(f'{nome}, devia ter se alistado há {idade - 18} ano(s)')\n"
      ],
      "execution_count": null,
      "outputs": [
        {
          "output_type": "stream",
          "text": [
            "Alistamento militar\n",
            "Qual o seu nome? José\n",
            "Em que ano você nasceu?  2005\n",
            "José, você ainda tem 16 anos, falta 2 anos para o seu alistamento.\n"
          ],
          "name": "stdout"
        }
      ]
    },
    {
      "cell_type": "code",
      "metadata": {
        "colab": {
          "base_uri": "https://localhost:8080/"
        },
        "id": "zEJPtT2h9MS2",
        "outputId": "b760b093-6ef9-4d1c-ac26-04440e5c5de6"
      },
      "source": [
        "print('Notas dos alunos')\n",
        "nota1 = float(input('Digite o valor da primeira nota: '))\n",
        "nota2 = float(input('Digite o valor da segunda nota: '))\n",
        "media = (nota1 + nota2)/2\n",
        "if media < 5.0:\n",
        "  print(f'O aluno está reprovado, a média dele foi {media}')\n",
        "elif media <= 6.9:\n",
        "  print(f'O aluno está em recuperação, a média dele foi {media}.')\n",
        "else:\n",
        "  print(f'O aluno está aprovado com média {media}.')    \n"
      ],
      "execution_count": null,
      "outputs": [
        {
          "output_type": "stream",
          "text": [
            "Notas dos alunos\n",
            "Digite o valor da primeira nota: 7\n",
            "Digite o valor da segunda nota: 9\n",
            "O aluno está aprovado com média 8.0.\n"
          ],
          "name": "stdout"
        }
      ]
    },
    {
      "cell_type": "code",
      "metadata": {
        "colab": {
          "base_uri": "https://localhost:8080/"
        },
        "id": "eu7-qGH3wyPy",
        "outputId": "92b5d6d2-c108-4e80-a07d-30f14a7bdaa7"
      },
      "source": [
        "from datetime import date\n",
        "print('Atletas ')\n",
        "data_atual = date.today().year\n",
        "ano_nascimento = int(input('Digite o ano de nascimento do atleta: '))\n",
        "idade = data_atual - ano_nascimento\n",
        "\n",
        "if idade <= 9:\n",
        "  print(f'O atleta possui {idade} anos, portanto ele está classificado na categoria MIRIM.')\n",
        "elif idade <= 14:\n",
        "  print(f'O atleta possui {idade} anos, portanto ele está classificado na categoria INFANTIL.')\n",
        "elif idade <= 19:\n",
        "  print(f'O atleta possui {idade} anos, portanto ele está classificado na categoria JÚNIOR.')\n",
        "elif idade <= 25:\n",
        "  print(f'O atleta possui {idade} anos, portanto ele está classificado na categoria SÊNIOR.')\n",
        "else:\n",
        "  print(f'O atleta possui {idade} anos, portanto ele está classificado na categoria MASTER.') \n"
      ],
      "execution_count": null,
      "outputs": [
        {
          "output_type": "stream",
          "text": [
            "Atletas \n",
            "Digite o ano de nascimento do atleta: 1983\n",
            "O atleta possui 38 anos, portanto ele está classificado na categoria MASTER.\n"
          ],
          "name": "stdout"
        }
      ]
    },
    {
      "cell_type": "code",
      "metadata": {
        "colab": {
          "base_uri": "https://localhost:8080/"
        },
        "id": "0kwREIOZBwRC",
        "outputId": "ac733439-7ea6-4aa3-edf5-2ea6e8b33859"
      },
      "source": [
        "print('Triângulos')\n",
        "lado1 = float(input('Digite a medida do primeiro lado: '))\n",
        "lado2 = float(input('Digite a medida do segundo lado: '))\n",
        "lado3 = float(input('Digite a medida do terceiro lado: '))\n",
        "soma = lado1 + lado2\n",
        "if soma > lado3:\n",
        "  if lado1 == lado2 and lado3 == lado1:\n",
        "    print('Esse triângulo é EQUILÁTERO.')\n",
        "  elif lado1 != lado2 and lado2 != lado3 and lado1 != lado3:\n",
        "    print('Esse triângulo é ESCALENO. ')\n",
        "  else:\n",
        "    print('Esse triângulo é ISÓSCELES. ')\n",
        "else: \n",
        "  print('As medidas acima não formam triângulo.')        "
      ],
      "execution_count": null,
      "outputs": [
        {
          "output_type": "stream",
          "text": [
            "Triângulos\n",
            "Digite a medida do primeiro lado: 1\n",
            "Digite a medida do segundo lado: 2\n",
            "Digite a medida do terceiro lado: 3\n",
            "As medidas acima não formam triângulo.\n"
          ],
          "name": "stdout"
        }
      ]
    },
    {
      "cell_type": "code",
      "metadata": {
        "id": "-NrnCUinTq5m",
        "colab": {
          "base_uri": "https://localhost:8080/"
        },
        "outputId": "a51d2420-fdd1-4cb0-851d-ffab74e473e0"
      },
      "source": [
        "print('Calculo de IMC')\n",
        "nome = str(input('Qual o seu nome? '))\n",
        "peso = float(input('Digite o seu peso: '))\n",
        "altura = float(input('Digite sua altura: '))\n",
        "imc = peso / (altura*altura)\n",
        "if imc < 18.5:\n",
        "  print(f'Olá {nome}. Você está abaixo do peso. Seu IMC é {imc} ')\n",
        "elif imc < 25:  \n",
        "  print(f'Olá {nome}. Você está com peso normal. Seu IMC é {imc} ')\n",
        "elif imc <=30:\n",
        "  print(f'Olá {nome}. Você está com sobrepeso. Seu IMC é {imc}')\n",
        "elif imc <= 40:\n",
        "  print(f'Olá {nome}. Você está com obesidade. Seu IMC é {imc}')\n",
        "else:\n",
        "  print(f'Olá {nome}. Você está com obesidade mórbida, cuide da sua saúde. Seu IMC é {imc} ')      "
      ],
      "execution_count": null,
      "outputs": [
        {
          "output_type": "stream",
          "text": [
            "Calculo de IMC\n",
            "Qual o seu nome? José\n",
            "Digite o seu peso: 84\n",
            "Digite sua altura: 1.61\n",
            "Olá José. Você está com obesidade. Seu IMC é 32.40615716986227\n"
          ],
          "name": "stdout"
        }
      ]
    },
    {
      "cell_type": "code",
      "metadata": {
        "id": "XuhNvHdeTqzE",
        "colab": {
          "base_uri": "https://localhost:8080/"
        },
        "outputId": "41b1b002-cde1-4555-deae-8ed0042fbe7b"
      },
      "source": [
        "print('Gerenciador de pagamentos')\n",
        "produto = float(input('Digite o valo do produto: R$'))\n",
        "print('''Forma de pagamento:\n",
        "          1 -> À vista dinheiro/cheque\n",
        "          2 -> À vista cartão\n",
        "          3 -> Dividido em 2X cartão\n",
        "          4 -> Dividido 3X ou mais no cartão''')\n",
        "pagamento = int(input('Escolha uma forma de pagamento: '))\n",
        "if pagamento == 1:\n",
        "  desconto = produto * (10/100)\n",
        "  print(f'Sua opção de pagamento é {pagamento}, terá 10% de desconto. O valor era R${produto} e agora será R${produto - desconto} ')\n",
        "elif pagamento == 2:\n",
        "  desconto = produto * (5/100)\n",
        "  print(f'Sua opção de pagamento é {pagamento}, terá 5% de desconto. O valor era R${produto} e agora será R${produto - desconto} ')\n",
        "elif pagamento == 3:\n",
        "  print(f'Sua forma de pagamento é a opção {pagamento}, portanto seu produto terá o valor normal. Valor {produto} (Sem descontos ou acrescimos).')\n",
        "elif pagamento == 4:\n",
        "  juros = produto * (20/100)\n",
        "  print(f'Você escolheu a forma de pagamento {pagamento}, portanto, seu produto terá um acrescimo de 20%. O valor era R${produto} e agora será {produto + juros}')\n",
        "\n"
      ],
      "execution_count": null,
      "outputs": [
        {
          "output_type": "stream",
          "text": [
            "Gerenciador de pagamentos\n",
            "Digite o valo do produto: R$1000\n",
            "Forma de pagamento:\n",
            "          1 -> À vista dinheiro/cheque\n",
            "          2 -> À vista cartão\n",
            "          3 -> Dividido em 2X cartão\n",
            "          4 -> Dividido 3X ou mais no cartão\n",
            "Escolha uma forma de pagamento: 1\n",
            "Sua opção de pagamento é 1, terá 10% de desconto. O valor era R$1000.0 e agora será R$900.0 \n"
          ],
          "name": "stdout"
        }
      ]
    },
    {
      "cell_type": "code",
      "metadata": {
        "colab": {
          "base_uri": "https://localhost:8080/"
        },
        "id": "vLpV4y2JiLBG",
        "outputId": "e5e720b2-343f-4856-ae1c-53f37ceaaf68"
      },
      "source": [
        "import random\n",
        "import datetime\n",
        "print('Game pedra, papel e tesoura')\n",
        "op = int(input('Deseja começar o jogo? [1 para sim] e [2 para não]: '))\n",
        "while op == 1:\n",
        "  pc = random.randint(1, 3)\n",
        "  if pc == 1:\n",
        "    escPC = 'Pedra'\n",
        "  elif pc == 2:\n",
        "    escPC = 'Papel'\n",
        "  elif pc == 3:\n",
        "    escPC = 'Tesoura'    \n",
        "  print('''Vamos jogar. Escolha uma das opções:\n",
        "          1 -> Pedra\n",
        "          2 -> Papel\n",
        "          3 -> Tesoura''')\n",
        "  escolha = int(input('Digite aqui sua escolha: '))\n",
        "  if escolha == 1:\n",
        "    usuario = 'Pedra'\n",
        "  elif escolha == 2: \n",
        "    usuario = 'Papel'\n",
        "  elif escolha == 3:\n",
        "    usuario = 'Tesoura'    \n",
        "  if escolha == pc:\n",
        "    print(f'Tivemos um empate. Eu joguei {escPC} e você jogou {usuario}')\n",
        "  elif escolha == 1 and pc == 2:\n",
        "    print(f'Que pena você perdeu. Eu joguei {escPC} e você jogou {usuario}')\n",
        "  elif escolha == 1 and pc == 3:\n",
        "    print(f'Parabéns! Você venceu! Eu joguei {escPC} e você jogou {usuario}')\n",
        "  elif escolha == 2 and pc == 1:\n",
        "    print(f'Parabéns! Você venceu! Eu joguei {escPC} e você jogou {usuario}')\n",
        "  elif escolha == 2 and pc == 3:\n",
        "    print(f'Que pena você perdeu. Eu joguei {escPC} e você jogou {usuario}')\n",
        "  elif escolha  == 3 and pc == 1:\n",
        "    print(f'Que pena você perdeu. Eu joguei {escPC} e você jogou {usuario}')\n",
        "  elif escolha == 3 and pc == 2:\n",
        "    print(f'Parabéns! Você venceu! Eu joguei {escPC} e você jogou {usuario}')\n",
        "\n",
        "  op = int(input('Deseja continuar jogando? [1 para sim] e [2 para não]: '))  "
      ],
      "execution_count": null,
      "outputs": [
        {
          "output_type": "stream",
          "text": [
            "Game pedra, papel e tesoura\n",
            "Deseja começar o jogo? [1 para sim] e [2 para não]: 1\n",
            "Vamos jogar. Escolha uma das opções:\n",
            "          1 -> Pedra\n",
            "          2 -> Papel\n",
            "          3 -> Tesoura\n",
            "Digite aqui sua escolha: 1\n",
            "Que pena você perdeu. Eu joguei Papel e você jogou Pedra\n",
            "Deseja continuar jogando? [1 para sim] e [2 para não]: 1\n",
            "Vamos jogar. Escolha uma das opções:\n",
            "          1 -> Pedra\n",
            "          2 -> Papel\n",
            "          3 -> Tesoura\n",
            "Digite aqui sua escolha: 2\n",
            "Parabéns! Você venceu! Eu joguei Pedra e você jogou Papel\n",
            "Deseja continuar jogando? [1 para sim] e [2 para não]: 1\n",
            "Vamos jogar. Escolha uma das opções:\n",
            "          1 -> Pedra\n",
            "          2 -> Papel\n",
            "          3 -> Tesoura\n",
            "Digite aqui sua escolha: 3\n",
            "Parabéns! Você venceu! Eu joguei Papel e você jogou Tesoura\n",
            "Deseja continuar jogando? [1 para sim] e [2 para não]: 1\n",
            "Vamos jogar. Escolha uma das opções:\n",
            "          1 -> Pedra\n",
            "          2 -> Papel\n",
            "          3 -> Tesoura\n",
            "Digite aqui sua escolha: 1\n",
            "Parabéns! Você venceu! Eu joguei Tesoura e você jogou Pedra\n",
            "Deseja continuar jogando? [1 para sim] e [2 para não]: 2\n"
          ],
          "name": "stdout"
        }
      ]
    },
    {
      "cell_type": "code",
      "metadata": {
        "id": "2-j3sgbdrdSw",
        "colab": {
          "base_uri": "https://localhost:8080/"
        },
        "outputId": "2c310398-da20-4bbf-b51a-0b2fb54643dc"
      },
      "source": [
        "from time import sleep\n",
        "print('Contagem regressiva')\n",
        "for cont in range(10, -1, -1):\n",
        "  print(f'... {cont}')\n",
        "  sleep(1)\n",
        "print('Acabou')  "
      ],
      "execution_count": null,
      "outputs": [
        {
          "output_type": "stream",
          "text": [
            "Contagem regressiva\n",
            "... 10\n",
            "... 9\n",
            "... 8\n",
            "... 7\n",
            "... 6\n",
            "... 5\n",
            "... 4\n",
            "... 3\n",
            "... 2\n",
            "... 1\n",
            "... 0\n",
            "Acabou\n"
          ],
          "name": "stdout"
        }
      ]
    },
    {
      "cell_type": "code",
      "metadata": {
        "id": "fgAdTExlajbn",
        "colab": {
          "base_uri": "https://localhost:8080/"
        },
        "outputId": "1ea9f29b-47e6-4685-d292-eab2bae007ee"
      },
      "source": [
        "import random\n",
        "print('Contagem de pares')\n",
        "for x in range(0,51):\n",
        "  if x % 2 == 0:\n",
        "    print(x)\n"
      ],
      "execution_count": null,
      "outputs": [
        {
          "output_type": "stream",
          "text": [
            "Contagem de pares\n",
            "0\n",
            "2\n",
            "4\n",
            "6\n",
            "8\n",
            "10\n",
            "12\n",
            "14\n",
            "16\n",
            "18\n",
            "20\n",
            "22\n",
            "24\n",
            "26\n",
            "28\n",
            "30\n",
            "32\n",
            "34\n",
            "36\n",
            "38\n",
            "40\n",
            "42\n",
            "44\n",
            "46\n",
            "48\n",
            "50\n"
          ],
          "name": "stdout"
        }
      ]
    },
    {
      "cell_type": "code",
      "metadata": {
        "colab": {
          "base_uri": "https://localhost:8080/"
        },
        "id": "kHuovyQaNcfa",
        "outputId": "1b8f4ff3-f135-440d-bde2-b198c53c8081"
      },
      "source": [
        "print('Somando múltiplos de 3')\n",
        "soma = 0\n",
        "cont = 0\n",
        "for a in range(1, 501, 2):\n",
        "  if a % 3 == 0:\n",
        "    soma = soma + a # Esse aqui é um acumulador\n",
        "    cont = cont + 1 #Esse aqui é um contador\n",
        "print(f'Temos {cont} números, que somados dão {soma}')"
      ],
      "execution_count": null,
      "outputs": [
        {
          "output_type": "stream",
          "text": [
            "Somando múltiplos de 3\n",
            "Temos 83 números, que somados dão 20667\n"
          ],
          "name": "stdout"
        }
      ]
    },
    {
      "cell_type": "code",
      "metadata": {
        "colab": {
          "base_uri": "https://localhost:8080/"
        },
        "id": "cCVfESy_QhQR",
        "outputId": "0c7ac425-75a6-4322-b6bb-5a1d8f0f0b2a"
      },
      "source": [
        "print('Mais uma tabuada')\n",
        "print('''Qual tabuada deseja usar? \n",
        "            1 -> Soma\n",
        "            2 -> Subtração\n",
        "            3 -> Divisão\n",
        "            4 -> Multiplicação''')\n",
        "op = int(input('Digite a tabuada que deseja saber: '))\n",
        "n = int(input('Digite o valor para a tabuada: '))\n",
        "for r in range(0, 11):\n",
        "  if op == 1:\n",
        "    print(f'{n} + {r} = {n + r}')\n",
        "  elif op == 2:\n",
        "    print(f'{n} - {r} = {n - r}')\n",
        "  elif op == 3:\n",
        "    print(f'{n} / {r} = {n / r}') \n",
        "  elif op == 4:\n",
        "    print(f'{n} * {r} = {n * r}')\n"
      ],
      "execution_count": null,
      "outputs": [
        {
          "output_type": "stream",
          "text": [
            "Mais uma tabuada\n",
            "Qual tabuada deseja usar? \n",
            "            1 -> Soma\n",
            "            2 -> Subtração\n",
            "            3 -> Divisão\n",
            "            4 -> Multiplicação\n",
            "Digite a tabuada que deseja saber: 4\n",
            "Digite o valor para a tabuada: 2\n",
            "2 * 0 = 0\n",
            "2 * 1 = 2\n",
            "2 * 2 = 4\n",
            "2 * 3 = 6\n",
            "2 * 4 = 8\n",
            "2 * 5 = 10\n",
            "2 * 6 = 12\n",
            "2 * 7 = 14\n",
            "2 * 8 = 16\n",
            "2 * 9 = 18\n",
            "2 * 10 = 20\n"
          ],
          "name": "stdout"
        }
      ]
    },
    {
      "cell_type": "code",
      "metadata": {
        "colab": {
          "base_uri": "https://localhost:8080/"
        },
        "id": "Vf3QrXl5fVjZ",
        "outputId": "98837b21-51ff-46af-a654-885d151384d7"
      },
      "source": [
        "print('Soma de pares')\n",
        "x = 0\n",
        "soma = 0\n",
        "par = 0\n",
        "while x < 6:\n",
        "  nu = int(input('Digite um valor: '))\n",
        "  if nu % 2 == 0:\n",
        "    soma = nu + soma\n",
        "    par = par + 1\n",
        "  x = x +1\n",
        "print(f'Temos {par} números pares que somados dão o valor de {soma}')  \n",
        "  "
      ],
      "execution_count": null,
      "outputs": [
        {
          "output_type": "stream",
          "text": [
            "Soma de pares\n",
            "Digite um valor: 2\n",
            "Digite um valor: 4\n",
            "Digite um valor: 6\n",
            "Digite um valor: 9\n",
            "Digite um valor: 7\n",
            "Digite um valor: 5\n",
            "Temos 3 números pares que somados dão o valor de 12\n"
          ],
          "name": "stdout"
        }
      ]
    },
    {
      "cell_type": "code",
      "metadata": {
        "id": "KTpw1LwHqOCW",
        "colab": {
          "base_uri": "https://localhost:8080/"
        },
        "outputId": "61d7f904-f04f-424a-f9dc-aae7c67a5f34"
      },
      "source": [
        "print('progressão aritmética')\n",
        "pri = int(input('Primeiro termo da progressão: '))\n",
        "razao = int(input('Razão da progressão: '))\n",
        "decimo = pri + (10 -1) * razao\n",
        "print('Os dez primeiros termos da progressão são: ')\n",
        "for n in range(pri, decimo+razao, razao):\n",
        "  print(f' {n}', end=' ->')\n",
        "print(' Acabou')  \n",
        "\n"
      ],
      "execution_count": null,
      "outputs": [
        {
          "output_type": "stream",
          "text": [
            "progressão aritmética\n",
            "Primeiro termo da progressão: 5\n",
            "Razão da progressão: 2\n",
            "Os dez primeiros termos da progressão são: \n",
            " 5 -> 7 -> 9 -> 11 -> 13 -> 15 -> 17 -> 19 -> 21 -> 23 -> Acabou\n"
          ],
          "name": "stdout"
        }
      ]
    },
    {
      "cell_type": "code",
      "metadata": {
        "colab": {
          "base_uri": "https://localhost:8080/"
        },
        "id": "pKbx6Ioyd5OK",
        "outputId": "3c9e4ee0-6824-4e9c-ef86-613fb421c214"
      },
      "source": [
        "print('Maioridade')\n",
        "cont = 0\n",
        "for p in range(1, 8):\n",
        "  pessoa = str(input('Digite nome: '))\n",
        "  idade = int(input('Digite sua idade: '))\n",
        "  print('-------------------------------------')\n",
        "  if idade >= 18:\n",
        "    cont = cont+1\n",
        "\n",
        "print(f'Foram informadas {cont} pessoas maiores de idade, e {7 - cont} menores de idade.')    "
      ],
      "execution_count": null,
      "outputs": [
        {
          "output_type": "stream",
          "text": [
            "Maioridade\n",
            "Digite nome: José\n",
            "Digite sua idade: 38\n",
            "-------------------------------------\n",
            "Digite nome: Nilton\n",
            "Digite sua idade: 28\n",
            "-------------------------------------\n",
            "Digite nome: Thalita\n",
            "Digite sua idade: 24\n",
            "-------------------------------------\n",
            "Digite nome: Allan\n",
            "Digite sua idade: 4\n",
            "-------------------------------------\n",
            "Digite nome: Christopher\n",
            "Digite sua idade: 2\n",
            "-------------------------------------\n",
            "Digite nome: Agatha\n",
            "Digite sua idade: 2\n",
            "-------------------------------------\n",
            "Digite nome: Sophia\n",
            "Digite sua idade: 1\n",
            "-------------------------------------\n",
            "Foram informadas 3 pessoas maiores de idade, e 4 menores de idade.\n"
          ],
          "name": "stdout"
        }
      ]
    },
    {
      "cell_type": "code",
      "metadata": {
        "colab": {
          "base_uri": "https://localhost:8080/"
        },
        "id": "fWrgiDqE8wqe",
        "outputId": "08a374b6-4dd6-40d8-ec4b-99a22d1c9512"
      },
      "source": [
        "print('Peso')\n",
        "maior = 0\n",
        "menor = 0\n",
        "cont = 0\n",
        "for p in range(1, 6):\n",
        "  nome = str(input('Nome: '))\n",
        "  peso = float(input('Qual o peso: '))\n",
        "  if p == 1:\n",
        "    maior = peso\n",
        "    menor = peso\n",
        "  else:\n",
        "    if peso > maior:\n",
        "      maior = peso\n",
        "    if peso < menor:\n",
        "       menor = peso \n",
        "  \n",
        "  cont = cont+1  \n",
        "\n",
        "print(f'Foram cadastrados {cont} pesos sendo que o maior valor é {maior}Kg e o menor valor é {menor}Kg')      \n"
      ],
      "execution_count": null,
      "outputs": [
        {
          "output_type": "stream",
          "text": [
            "Peso\n",
            "Nome: a\n",
            "Qual o peso: 24\n",
            "Nome: b\n",
            "Qual o peso: 12\n",
            "Nome: c\n",
            "Qual o peso: 34\n",
            "Nome: d\n",
            "Qual o peso: 13\n",
            "Nome: e\n",
            "Qual o peso: 2\n",
            "Foram cadastrados 5 pesos sendo que o maior valor é 34.0Kg e o menor valor é 2.0Kg\n"
          ],
          "name": "stdout"
        }
      ]
    },
    {
      "cell_type": "code",
      "metadata": {
        "id": "QG7DRGKO9xCx",
        "colab": {
          "base_uri": "https://localhost:8080/"
        },
        "outputId": "6cecf9d3-ec7c-42f5-a5f6-1a900fe64541"
      },
      "source": [
        "print('Análisando dados')\n",
        "somaIdade = 0\n",
        "maiorIdadeM = 0\n",
        "nomeIdadeMaiorM = 0\n",
        "totalMulher20 = 0\n",
        "for a in range(1, 5):\n",
        "  print(f'++++++++++ {a}ª Pessoa +++++++++++++++++')\n",
        "  nome = str(input('Nome: '))\n",
        "  sexo = str(input('Sexo: [M para masculino e f para feminino]:  '))\n",
        "  idade = int(input('Idade: '))\n",
        "  somaIdade = somaIdade + idade\n",
        "  if a == 1 and sexo in 'Mm':\n",
        "    maiorIdadeM = idade\n",
        "    nomeIdadeMaiorM = nome\n",
        "  if sexo in 'Mm' and idade > maiorIdadeM:\n",
        "    maiorIdadeM = idade\n",
        "    nomeIdadeMaiorM = nome\n",
        "  if sexo in 'Ff' and idade < 20:\n",
        "    totalMulher20 += 1\n",
        "print(f'A soma de todas as idades é {somaIdade} e a média de idades é {somaIdade / 4}')\n",
        "print(f'O homem mais velho se chama {nomeIdadeMaiorM} e ele tem {maiorIdadeM} anos. ')\n",
        "print(f'Temos {totalMulher20} mulheres com menos de 20 anos.')"
      ],
      "execution_count": null,
      "outputs": [
        {
          "output_type": "stream",
          "text": [
            "Análisando dados\n",
            "++++++++++ 1ª Pessoa +++++++++++++++++\n",
            "Nome: José\n",
            "Sexo: [M para masculino e f para feminino]:  m\n",
            "Idade: 38\n",
            "++++++++++ 2ª Pessoa +++++++++++++++++\n",
            "Nome: Nilton\n",
            "Sexo: [M para masculino e f para feminino]:  m\n",
            "Idade: 83\n",
            "++++++++++ 3ª Pessoa +++++++++++++++++\n",
            "Nome: Thalita\n",
            "Sexo: [M para masculino e f para feminino]:  f\n",
            "Idade: 25\n",
            "++++++++++ 4ª Pessoa +++++++++++++++++\n",
            "Nome: Sophia\n",
            "Sexo: [M para masculino e f para feminino]:  f\n",
            "Idade: 12\n",
            "A soma de todas as idades é 158 e a média de idades é 39.5\n",
            "O homem mais velho se chama Nilton e ele tem 83 anos. \n",
            "Temos 1 mulheres com menos de 20 anos.\n"
          ],
          "name": "stdout"
        }
      ]
    },
    {
      "cell_type": "code",
      "metadata": {
        "id": "Xk6z2UwLE_t1",
        "colab": {
          "base_uri": "https://localhost:8080/"
        },
        "outputId": "3569b48a-770a-4db6-fb92-2fc7d05be9b4"
      },
      "source": [
        "print('Validação de dados')\n",
        "sexo = str(input('Qual o seu sexo? Digite M para masculino ou F para feminino: ')).strip().upper()[0]\n",
        "while sexo not in 'MF':\n",
        "  sexo = str(input('Digite M para masculino ou F para feminino: ')).strip().upper()[0]\n",
        "if sexo == 'M':  \n",
        "  print('O sexo informado é: Masculino')\n",
        "else:\n",
        "  print('O sexo informado é: Feminino')  "
      ],
      "execution_count": null,
      "outputs": [
        {
          "output_type": "stream",
          "text": [
            "Validação de dados\n",
            "Qual o seu sexo? Digite M para masculino ou F para feminino: g\n",
            "Digite M para masculino ou F para feminino: t\n",
            "Digite M para masculino ou F para feminino: g\n",
            "Digite M para masculino ou F para feminino: f\n",
            "O sexo informado é: Feminino\n"
          ],
          "name": "stdout"
        }
      ]
    },
    {
      "cell_type": "code",
      "metadata": {
        "colab": {
          "base_uri": "https://localhost:8080/"
        },
        "id": "1-CWmcIE6Q_0",
        "outputId": "73cec272-4d23-4aa1-b201-bc409a79524e"
      },
      "source": [
        "from random import randint\n",
        "print('Jogo da advinhação 2.0')\n",
        "pc = randint(0,10)\n",
        "print('Estou pensando em um número entre 0 e 10. Consegue advinhar?')\n",
        "palpite = int(input('Diga qual o seu palpite: '))\n",
        "cont = 0\n",
        "while palpite != pc:\n",
        "  palpite = int(input('Errou! Tente mais uma vez: '))\n",
        "  cont = cont +1\n",
        "  if palpite > 10:\n",
        "    print('O valor deve estar entre 0 e 10.')\n",
        "print(f'Eu pensei no valor: {pc}')\n",
        "if cont > 5:\n",
        "  print(f'UFA! Pensei que você nunca fosse acertar. Precisou de {cont + 1} palpites.')\n",
        "else:  \n",
        "  print(f'Parabéns! Você precisou de {cont + 1} chutes para acertar')  \n"
      ],
      "execution_count": null,
      "outputs": [
        {
          "output_type": "stream",
          "text": [
            "Jogo da advinhação 2.0\n",
            "Estou pensando em um número entre 0 e 10. Consegue advinhar?\n",
            "Diga qual o seu palpite: 0\n",
            "Errou! Tente mais uma vez: 1\n",
            "Errou! Tente mais uma vez: 2\n",
            "Eu pensei no valor: 2\n",
            "Parabéns! Você precisou de 3 chutes para acertar\n"
          ],
          "name": "stdout"
        }
      ]
    },
    {
      "cell_type": "code",
      "metadata": {
        "id": "d8uXLy7Y9YRF",
        "colab": {
          "base_uri": "https://localhost:8080/"
        },
        "outputId": "40af9474-6005-4761-d4b6-b0ac156df94f"
      },
      "source": [
        "print('Menu de opções')\n",
        "opcao = 0\n",
        "while opcao != 5:\n",
        "  print(''' Escolha o que deseja fazer:\n",
        "          1 -> somar\n",
        "          2 -> multiplicar\n",
        "          3 -> dividir\n",
        "          4 -> subtrair\n",
        "          5 -> sair''')\n",
        "  opcao = int(input('Qual opção você deseja: '))\n",
        "  if opcao == 1:\n",
        "    nu = int(input('Digite um valor: '))\n",
        "    nu2 = int(input('Digite um segundo valor: '))\n",
        "    print(f'O resultado da soma de {nu} + {nu2} é: {nu + nu2}')\n",
        "    print('--------------------------------------------------')\n",
        "  elif opcao == 2:\n",
        "    nu = int(input('Digite um valor: '))\n",
        "    nu2 = int(input('Digite um segundo valor: '))\n",
        "    print(f'O resultado da multiplicação de {nu} + {nu2} é: {nu * nu2}')    \n",
        "    print('--------------------------------------------------')\n",
        "  elif opcao == 3:\n",
        "    nu = int(input('Digite um valor: '))\n",
        "    nu2 = int(input('Digite um segundo valor: '))\n",
        "    print(f'O resultado da divisão de {nu} + {nu2} é: {nu / nu2}')    \n",
        "    print('--------------------------------------------------')  \n",
        "  elif opcao == 4:\n",
        "    nu = int(input('Digite um valor: '))\n",
        "    nu2 = int(input('Digite um segundo valor: '))\n",
        "    print(f'O resultado da subtração de {nu} + {nu2} é: {nu - nu2}')    \n",
        "    print('--------------------------------------------------')      \n",
        "  else:\n",
        "    print('O programa está sendo encerrado, volte sempre!!')"
      ],
      "execution_count": null,
      "outputs": [
        {
          "output_type": "stream",
          "text": [
            "Menu de opções\n",
            " Escolha o que deseja fazer:\n",
            "          1 -> somar\n",
            "          2 -> multiplicar\n",
            "          3 -> dividir\n",
            "          4 -> subtrair\n",
            "          5 -> sair\n",
            "Qual opção você deseja: 1\n",
            "Digite um valor: 3\n",
            "Digite um segundo valor: 9\n",
            "O resultado da soma de 3 + 9 é: 12\n",
            "--------------------------------------------------\n",
            " Escolha o que deseja fazer:\n",
            "          1 -> somar\n",
            "          2 -> multiplicar\n",
            "          3 -> dividir\n",
            "          4 -> subtrair\n",
            "          5 -> sair\n",
            "Qual opção você deseja: 5\n",
            "O programa está sendo encerrado, volte sempre!!\n"
          ],
          "name": "stdout"
        }
      ]
    },
    {
      "cell_type": "code",
      "metadata": {
        "colab": {
          "base_uri": "https://localhost:8080/"
        },
        "id": "uLvgvTu-XsMG",
        "outputId": "4da750da-d65c-409f-9265-6cf36aa573c4"
      },
      "source": [
        "print('Fatoração com while')\n",
        "item = int(input('Qual número deseja fatorar? '))\n",
        "fator = item\n",
        "f = 1\n",
        "print(f'Calculando {item}! =', end=' ')\n",
        "while fator > 0:\n",
        "  print(f'{fator}', end=' ')\n",
        "  print(' x ' if fator > 1 else '=', end=' ')\n",
        "  f = f * fator\n",
        "  fator = fator - 1\n",
        "print(f)    "
      ],
      "execution_count": null,
      "outputs": [
        {
          "output_type": "stream",
          "text": [
            "Fatoração\n",
            "Qual número deseja fatorar? 5\n",
            "Calculando 5! = 5  x  4  x  3  x  2  x  1 = 120\n"
          ],
          "name": "stdout"
        }
      ]
    },
    {
      "cell_type": "code",
      "metadata": {
        "colab": {
          "base_uri": "https://localhost:8080/"
        },
        "id": "jWBaPs4bM5J8",
        "outputId": "2e79f30b-a2e4-4ec4-ea99-0bdd5c1bb233"
      },
      "source": [
        "print('Fatoração com for')\n",
        "item = int(input('Qual número deseja fatorar? '))\n",
        "f = 1\n",
        "print(f'Calculando {item}! =', end=' ')\n",
        "for a in range(item,0,- 1):\n",
        "  print(f'{a}', end=' ')\n",
        "  print(' x ' if a > 1 else '=', end=' ')\n",
        "  f = f * a\n",
        "print(f)  "
      ],
      "execution_count": null,
      "outputs": [
        {
          "output_type": "stream",
          "text": [
            "Fatoração com for\n",
            "Qual número deseja fatorar? 5\n",
            "Calculando 5! = 5  x  4  x  3  x  2  x  1 = 120\n"
          ],
          "name": "stdout"
        }
      ]
    },
    {
      "cell_type": "code",
      "metadata": {
        "id": "ayaj4eUeQHkX",
        "colab": {
          "base_uri": "https://localhost:8080/"
        },
        "outputId": "659f907f-86be-4b90-e457-fe227a83a72e"
      },
      "source": [
        "print('Gerador de PA')\n",
        "print('=+' * 10)\n",
        "primeiro = int(input('Digite o primeiro termo da PA: '))\n",
        "razao = int(input('Digite a razão da PA: '))\n",
        "termo = primeiro\n",
        "cont = 1\n",
        "op = 1\n",
        "op = int(input('Qual termo deseja mostrar? (Digite 0 para terminar) '))\n",
        "while op != 0:\n",
        "  for a in range(1, op):\n",
        "    print(f'{termo}', end=' => ')\n",
        "    termo = termo + razao\n",
        "    cont += 1\n",
        "  print('FIM')\n",
        "  print('++++' * 20)\n",
        "  op = int(input('Qual termo deseja mostrar? (Digite 0 para terminar) '))\n",
        "print('Proframa encerrado. Volte sempre!!')  \n"
      ],
      "execution_count": null,
      "outputs": [
        {
          "output_type": "stream",
          "text": [
            "Gerador de PA\n",
            "=+=+=+=+=+=+=+=+=+=+\n",
            "Digite o primeiro termo da PA: 2\n",
            "Digite a razão da PA: 2\n",
            "Qual termo deseja mostrar? (Digite 0 para terminar) 4\n",
            "2 => 4 => 6 => FIM\n",
            "++++++++++++++++++++++++++++++++++++++++++++++++++++++++++++++++++++++++++++++++\n",
            "Qual termo deseja mostrar? (Digite 0 para terminar) 8\n",
            "8 => 10 => 12 => 14 => 16 => 18 => 20 => FIM\n",
            "++++++++++++++++++++++++++++++++++++++++++++++++++++++++++++++++++++++++++++++++\n",
            "Qual termo deseja mostrar? (Digite 0 para terminar) 12\n",
            "22 => 24 => 26 => 28 => 30 => 32 => 34 => 36 => 38 => 40 => 42 => FIM\n",
            "++++++++++++++++++++++++++++++++++++++++++++++++++++++++++++++++++++++++++++++++\n",
            "Qual termo deseja mostrar? (Digite 0 para terminar) 0\n",
            "Proframa encerrado. Volte sempre!!\n"
          ],
          "name": "stdout"
        }
      ]
    },
    {
      "cell_type": "code",
      "metadata": {
        "id": "J25p5ICjmQzf",
        "colab": {
          "base_uri": "https://localhost:8080/"
        },
        "outputId": "35c0845d-42a8-4f75-c19e-f2646cfccd8b"
      },
      "source": [
        "print('Sequência de Fibonacci')\n",
        "n = int(input('Quantos números deseja ver da sequência de Fibonacci? '))\n",
        "f = 0\n",
        "f1 = 1\n",
        "termo = f + f1\n",
        "cont = 0\n",
        "print('0 -> 1',end=' -> ')\n",
        "while n > cont:\n",
        "  print(termo, end=' -> ')\n",
        "  f = f1\n",
        "  f1 = termo\n",
        "  termo = f + f1  \n",
        "  cont = cont + 1\n",
        "print('FIM')  "
      ],
      "execution_count": null,
      "outputs": [
        {
          "output_type": "stream",
          "text": [
            "Sequência de Fibonacci\n",
            "Quantos números deseja ver da sequência de Fibonacci? 5\n",
            "0 -> 1 -> 1 -> 2 -> 3 -> 5 -> 8 -> FIM\n"
          ],
          "name": "stdout"
        }
      ]
    },
    {
      "cell_type": "code",
      "metadata": {
        "id": "zEVmBlFgO-eN",
        "colab": {
          "base_uri": "https://localhost:8080/"
        },
        "outputId": "859138a3-bb6d-4da8-9d59-bbb18dd1dba7"
      },
      "source": [
        "print('Tratando de vários valores')\n",
        "op = 'S'\n",
        "cont = 0\n",
        "soma = 0\n",
        "while  op == 'S':\n",
        "  nu = int(input('Digite um valor inteiro: '))\n",
        "  op = str(input('Deseja digitar um número? (S para sim e N para não): '))\n",
        "  if op != 'S' and op != 'N':\n",
        "    print('Digite apenas S para sim ou N para não.')\n",
        "    op = str(input('Deseja digitar um número? (S para sim e N para não): '))\n",
        "  cont = cont + 1\n",
        "  soma = soma + nu\n",
        "print('Fim da Inserção de valores')\n",
        "print(f'Foram inseridos {cont} valores.')\n",
        "print(f'A soma entre eles dá: {soma}')\n",
        "  "
      ],
      "execution_count": 12,
      "outputs": [
        {
          "output_type": "stream",
          "text": [
            "Tratando de vários valores\n",
            "Digite um valor inteiro: 2\n",
            "Deseja digitar um número? (S para sim e N para não): S\n",
            "Digite um valor inteiro: 3\n",
            "Deseja digitar um número? (S para sim e N para não): S\n",
            "Digite um valor inteiro: 5\n",
            "Deseja digitar um número? (S para sim e N para não): N\n",
            "Fim da Inserção de valores\n",
            "Foram inseridos 3 valores.\n",
            "A soma entre eles dá: 10\n"
          ],
          "name": "stdout"
        }
      ]
    },
    {
      "cell_type": "code",
      "metadata": {
        "id": "UZHcRkAXO-WV"
      },
      "source": [
        "print('')"
      ],
      "execution_count": null,
      "outputs": []
    }
  ]
}