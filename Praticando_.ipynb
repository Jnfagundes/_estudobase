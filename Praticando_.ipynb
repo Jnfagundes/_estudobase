{
  "nbformat": 4,
  "nbformat_minor": 0,
  "metadata": {
    "colab": {
      "name": "Praticando .ipynb",
      "provenance": [],
      "authorship_tag": "ABX9TyOO944nVnpBwx39DvM5FTIv",
      "include_colab_link": true
    },
    "kernelspec": {
      "name": "python3",
      "display_name": "Python 3"
    },
    "language_info": {
      "name": "python"
    }
  },
  "cells": [
    {
      "cell_type": "markdown",
      "metadata": {
        "id": "view-in-github",
        "colab_type": "text"
      },
      "source": [
        "<a href=\"https://colab.research.google.com/github/Jnfagundes/_portifolio/blob/master/Praticando_.ipynb\" target=\"_parent\"><img src=\"https://colab.research.google.com/assets/colab-badge.svg\" alt=\"Open In Colab\"/></a>"
      ]
    },
    {
      "cell_type": "code",
      "metadata": {
        "colab": {
          "base_uri": "https://localhost:8080/"
        },
        "id": "OZ9Mr-GhUGkG",
        "outputId": "9aecce01-8214-48ae-b9b2-2e6acf3852db"
      },
      "source": [
        "print('Somando dois valores')\n",
        "n1 = int(input('Digite um número: '))\n",
        "n2 = int(input('Digite outro número: '))\n",
        "soma = n1 + n2\n",
        "print(f'A soma de {n1} com {n2} é igual {soma}')\n",
        "print(f'A média é {(n1+n2)/2}')\n"
      ],
      "execution_count": 20,
      "outputs": [
        {
          "output_type": "stream",
          "text": [
            "Somando dois valores\n",
            "Digite um número: 25\n",
            "Digite outro número: 67\n",
            "A soma de 25 com 67 é igual 92\n",
            "A média é 46.0\n"
          ],
          "name": "stdout"
        }
      ]
    },
    {
      "cell_type": "code",
      "metadata": {
        "colab": {
          "base_uri": "https://localhost:8080/"
        },
        "id": "akKSIG22Uvlt",
        "outputId": "6f0bb46a-e49f-4b56-f67e-e26fca7359f2"
      },
      "source": [
        "print('Analisando um dado')\n",
        "algo = input('digite algo'  )\n",
        "print(f'O tipo primitivo desse algo é {type(algo)}')\n",
        "print(f'Tem espaços?  {algo.isspace()}')\n",
        "print(f'É númerico? {algo.isnumeric()}')\n",
        "print(f'É alfabético? {algo.isalpha()}')\n",
        "print(f'É alfanumérico? {algo.isalnum()}')\n",
        "print(f'Está em maiuscula? {algo.isupper()}')\n",
        "print(f'Está em minúsculo? {algo.islower()}')\n"
      ],
      "execution_count": 14,
      "outputs": [
        {
          "output_type": "stream",
          "text": [
            "Analisando um dado\n",
            "digite algodado\n",
            "O tipo primitivo desse algo é <class 'str'>\n",
            "Tem espaços?  False\n",
            "É númerico? False\n",
            "É alfabético? True\n",
            "É alfanumérico? True\n",
            "Está em maiuscula? False\n",
            "Está em minúsculo? True\n"
          ],
          "name": "stdout"
        }
      ]
    },
    {
      "cell_type": "code",
      "metadata": {
        "colab": {
          "base_uri": "https://localhost:8080/"
        },
        "id": "Ks2nNJ_ZZG0I",
        "outputId": "9f336cb1-bcd3-403a-88a3-2667d4ed49cf"
      },
      "source": [
        "print('Antecessor e sucessor')\n",
        "n = int(input('Digite um valor do tipo inteiro: '))\n",
        "a = n - 1\n",
        "su = n + 1\n",
        "print(f' O número digitado é {n}, seu antecessor é {a} e seu sucessor é {su}')"
      ],
      "execution_count": 15,
      "outputs": [
        {
          "output_type": "stream",
          "text": [
            "Antecessor e sucessor\n",
            "Digite um valor do tipo inteiro: 55\n",
            " O número digitado é 55, seu antecessor é 54 e seu sucessor é 56\n"
          ],
          "name": "stdout"
        }
      ]
    },
    {
      "cell_type": "code",
      "metadata": {
        "colab": {
          "base_uri": "https://localhost:8080/"
        },
        "id": "maECNDolZ20u",
        "outputId": "9c74601e-1cbf-47ff-845a-815c329068cc"
      },
      "source": [
        "print('Dobro, triplo e raiz quadrada')\n",
        "n = int(input('Digite um valor do tipo inteiro: '))\n",
        "print(f'Seu dobro é {n*2} ' )\n",
        "print(f'Seu triplo é {n*3} ')\n",
        "print(f'Sua raiz quadrada é {n**(1/2)}')"
      ],
      "execution_count": 19,
      "outputs": [
        {
          "output_type": "stream",
          "text": [
            "Dobro, triplo e raiz quadrada\n",
            "Digite um valor do tipo inteiro: 9\n",
            "Seu dobro é 18 \n",
            "Seu triplo é 27 \n",
            "Sua raiz quadrada é 3.0\n"
          ],
          "name": "stdout"
        }
      ]
    },
    {
      "cell_type": "code",
      "metadata": {
        "colab": {
          "base_uri": "https://localhost:8080/"
        },
        "id": "SRQRZx_fS0j3",
        "outputId": "b693ac94-3821-451b-ad5f-f6ed36e79f1d"
      },
      "source": [
        "print('Conversor')\n",
        "m = float(input('Digite um valor em metros: '))\n",
        "print(f'{m}m equivale a {m * 100}cm  ')\n",
        "print(f'{m}m equivale a {m*1000}mm')"
      ],
      "execution_count": 1,
      "outputs": [
        {
          "output_type": "stream",
          "text": [
            "Conversor\n",
            "Digite um valor em metros: 3.5\n",
            "3.5m equivale a 350.0cm  \n",
            "3.5m equivale a 3500.0mm\n"
          ],
          "name": "stdout"
        }
      ]
    },
    {
      "cell_type": "code",
      "metadata": {
        "colab": {
          "base_uri": "https://localhost:8080/"
        },
        "id": "Ownwm-CuTgwW",
        "outputId": "b5a1eeb2-c164-4362-b226-4a360e1c009b"
      },
      "source": [
        "from random import randint \n",
        "print('Tabuada')\n",
        "num = int(input('Digite o valor do qual deseja saber a tabuada:  '))\n",
        "print('''Escolha uma opção:,\n",
        "          1 -> soma,\n",
        "          2 -> subtração,\n",
        "          3 -> divisão,\n",
        "          4 -> multiplicação''')\n",
        "operação = int(input('Qual operação deseja realizar?  '))\n",
        "if operação == 1: # Se operação for igual a 1 faça\n",
        "  for n in range(0,11): # Para n dentro do range que começa em 0 e vai até 10 faça\n",
        "    print(f'{num} + {n} = {num + n}') # Imprima num + n\n",
        "\n",
        "elif operação == 2:\n",
        "  for n in range(0,11):\n",
        "    print(f'{num} - {n} = {num - n}')\n",
        "  \n",
        "elif operação == 3:\n",
        "  for n in range(0,11):\n",
        "    print(f'{num} / {n} = {num // n}')  \n",
        "\n",
        "else:\n",
        "  for n in range(0,11):\n",
        "    print(f'{num} * {n} = {num * n}')\n"
      ],
      "execution_count": 13,
      "outputs": [
        {
          "output_type": "stream",
          "text": [
            "Tabuada\n",
            "Digite o valor do qual deseja saber a tabuada:  2\n",
            "Escolha uma opção:,\n",
            "          1 -> soma,\n",
            "          2 -> subtração,\n",
            "          3 -> divisão,\n",
            "          4 -> multiplicação\n",
            "Qual operação deseja realizar?  1\n",
            "2 + 0 = 2\n",
            "2 + 1 = 3\n",
            "2 + 2 = 4\n",
            "2 + 3 = 5\n",
            "2 + 4 = 6\n",
            "2 + 5 = 7\n",
            "2 + 6 = 8\n",
            "2 + 7 = 9\n",
            "2 + 8 = 10\n",
            "2 + 9 = 11\n",
            "2 + 10 = 12\n"
          ],
          "name": "stdout"
        }
      ]
    },
    {
      "cell_type": "code",
      "metadata": {
        "colab": {
          "base_uri": "https://localhost:8080/"
        },
        "id": "Gd99cNs2o434",
        "outputId": "8c375713-a0fe-4d4a-f6c5-1e8dd58cd2b5"
      },
      "source": [
        "import math\n",
        "nu = float(input('Digite um valor do tipo real: '))\n",
        "print(f'O número {nu} tem {math.trunc(nu)} como sua parte inteira.')\n",
        "print(f'O número {nu} tem {int(nu)} como sua parte inteira.')\n"
      ],
      "execution_count": 15,
      "outputs": [
        {
          "output_type": "stream",
          "text": [
            "Digite um valor do tipo real: 9.32\n",
            "O número 9.32 tem 9 como sua parte inteira.\n",
            "O número 9.32 tem 9 como sua parte inteira.\n"
          ],
          "name": "stdout"
        }
      ]
    },
    {
      "cell_type": "code",
      "metadata": {
        "colab": {
          "base_uri": "https://localhost:8080/"
        },
        "id": "nrFwKBW_16c3",
        "outputId": "748493e2-257d-4738-b361-fc6f2fcd61bb"
      },
      "source": [
        "print('Calculando o comprimento da hipotenusa')\n",
        "a = float(input('Digite o valor do cateto oposto: '))\n",
        "b = float(input('Digite o valor do cateto adjacente: '))\n",
        "h = ((a*a) +(b*b)) ** (1/2)\n",
        "print(f'O comprimento da hipotenusa é: {h}')\n"
      ],
      "execution_count": 21,
      "outputs": [
        {
          "output_type": "stream",
          "text": [
            "Calculando o comprimento da hipotenusa\n",
            "Digite o valor do cateto oposto: 9\n",
            "Digite o valor do cateto adjacente: 12\n",
            "O comprimento da hipotenusa é: 15.0\n"
          ],
          "name": "stdout"
        }
      ]
    }
  ]
}