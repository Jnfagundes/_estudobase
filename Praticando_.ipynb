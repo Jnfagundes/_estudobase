{
  "nbformat": 4,
  "nbformat_minor": 0,
  "metadata": {
    "colab": {
      "name": "Praticando .ipynb",
      "provenance": [],
      "authorship_tag": "ABX9TyMbJnJXIIqkYuoiiIMfnhu5",
      "include_colab_link": true
    },
    "kernelspec": {
      "name": "python3",
      "display_name": "Python 3"
    },
    "language_info": {
      "name": "python"
    }
  },
  "cells": [
    {
      "cell_type": "markdown",
      "metadata": {
        "id": "view-in-github",
        "colab_type": "text"
      },
      "source": [
        "<a href=\"https://colab.research.google.com/github/Jnfagundes/_portifolio/blob/master/Praticando_.ipynb\" target=\"_parent\"><img src=\"https://colab.research.google.com/assets/colab-badge.svg\" alt=\"Open In Colab\"/></a>"
      ]
    },
    {
      "cell_type": "code",
      "metadata": {
        "colab": {
          "base_uri": "https://localhost:8080/"
        },
        "id": "OZ9Mr-GhUGkG",
        "outputId": "9aecce01-8214-48ae-b9b2-2e6acf3852db"
      },
      "source": [
        "printprint('Somando dois valores')\n",
        "n1 = int(input('Digite um número: '))\n",
        "n2 = int(input('Digite outro número: '))\n",
        "soma = n1 + n2\n",
        "print(f'A soma de {n1} com {n2} é igual {soma}')\n",
        "print(f'A média é {(n1+n2)/2}')\n"
      ],
      "execution_count": null,
      "outputs": [
        {
          "output_type": "stream",
          "text": [
            "Somando dois valores\n",
            "Digite um número: 25\n",
            "Digite outro número: 67\n",
            "A soma de 25 com 67 é igual 92\n",
            "A média é 46.0\n"
          ],
          "name": "stdout"
        }
      ]
    },
    {
      "cell_type": "code",
      "metadata": {
        "colab": {
          "base_uri": "https://localhost:8080/"
        },
        "id": "akKSIG22Uvlt",
        "outputId": "6f0bb46a-e49f-4b56-f67e-e26fca7359f2"
      },
      "source": [
        "print('Analisando um dado')\n",
        "algo = input('digite algo'  )\n",
        "print(f'O tipo primitivo desse algo é {type(algo)}')\n",
        "print(f'Tem espaços?  {algo.isspace()}')\n",
        "print(f'É númerico? {algo.isnumeric()}')\n",
        "print(f'É alfabético? {algo.isalpha()}')\n",
        "print(f'É alfanumérico? {algo.isalnum()}')\n",
        "print(f'Está em maiuscula? {algo.isupper()}')\n",
        "print(f'Está em minúsculo? {algo.islower()}')\n"
      ],
      "execution_count": null,
      "outputs": [
        {
          "output_type": "stream",
          "text": [
            "Analisando um dado\n",
            "digite algodado\n",
            "O tipo primitivo desse algo é <class 'str'>\n",
            "Tem espaços?  False\n",
            "É númerico? False\n",
            "É alfabético? True\n",
            "É alfanumérico? True\n",
            "Está em maiuscula? False\n",
            "Está em minúsculo? True\n"
          ],
          "name": "stdout"
        }
      ]
    },
    {
      "cell_type": "code",
      "metadata": {
        "colab": {
          "base_uri": "https://localhost:8080/"
        },
        "id": "Ks2nNJ_ZZG0I",
        "outputId": "9f336cb1-bcd3-403a-88a3-2667d4ed49cf"
      },
      "source": [
        "print('Antecessor e sucessor')\n",
        "n = int(input('Digite um valor do tipo inteiro: '))\n",
        "a = n - 1\n",
        "su = n + 1\n",
        "print(f' O número digitado é {n}, seu antecessor é {a} e seu sucessor é {su}')"
      ],
      "execution_count": null,
      "outputs": [
        {
          "output_type": "stream",
          "text": [
            "Antecessor e sucessor\n",
            "Digite um valor do tipo inteiro: 55\n",
            " O número digitado é 55, seu antecessor é 54 e seu sucessor é 56\n"
          ],
          "name": "stdout"
        }
      ]
    },
    {
      "cell_type": "code",
      "metadata": {
        "colab": {
          "base_uri": "https://localhost:8080/"
        },
        "id": "maECNDolZ20u",
        "outputId": "9c74601e-1cbf-47ff-845a-815c329068cc"
      },
      "source": [
        "print('Dobro, triplo e raiz quadrada')\n",
        "n = int(input('Digite um valor do tipo inteiro: '))\n",
        "print(f'Seu dobro é {n*2} ' )\n",
        "print(f'Seu triplo é {n*3} ')\n",
        "print(f'Sua raiz quadrada é {n**(1/2)}')"
      ],
      "execution_count": null,
      "outputs": [
        {
          "output_type": "stream",
          "text": [
            "Dobro, triplo e raiz quadrada\n",
            "Digite um valor do tipo inteiro: 9\n",
            "Seu dobro é 18 \n",
            "Seu triplo é 27 \n",
            "Sua raiz quadrada é 3.0\n"
          ],
          "name": "stdout"
        }
      ]
    },
    {
      "cell_type": "code",
      "metadata": {
        "colab": {
          "base_uri": "https://localhost:8080/"
        },
        "id": "SRQRZx_fS0j3",
        "outputId": "b693ac94-3821-451b-ad5f-f6ed36e79f1d"
      },
      "source": [
        "print('Conversor')\n",
        "m = float(input('Digite um valor em metros: '))\n",
        "print(f'{m}m equivale a {m * 100}cm  ')\n",
        "print(f'{m}m equivale a {m*1000}mm')"
      ],
      "execution_count": null,
      "outputs": [
        {
          "output_type": "stream",
          "text": [
            "Conversor\n",
            "Digite um valor em metros: 3.5\n",
            "3.5m equivale a 350.0cm  \n",
            "3.5m equivale a 3500.0mm\n"
          ],
          "name": "stdout"
        }
      ]
    },
    {
      "cell_type": "code",
      "metadata": {
        "colab": {
          "base_uri": "https://localhost:8080/"
        },
        "id": "Ownwm-CuTgwW",
        "outputId": "b5a1eeb2-c164-4362-b226-4a360e1c009b"
      },
      "source": [
        "from random import randint \n",
        "print('Tabuada')\n",
        "num = int(input('Digite o valor do qual deseja saber a tabuada:  '))\n",
        "print('''Escolha uma opção:,\n",
        "          1 -> soma,\n",
        "          2 -> subtração,\n",
        "          3 -> divisão,\n",
        "          4 -> multiplicação''')\n",
        "operação = int(input('Qual operação deseja realizar?  '))\n",
        "if operação == 1: # Se operação for igual a 1 faça\n",
        "  for n in range(0,11): # Para n dentro do range que começa em 0 e vai até 10 faça\n",
        "    print(f'{num} + {n} = {num + n}') # Imprima num + n\n",
        "\n",
        "elif operação == 2:\n",
        "  for n in range(0,11):\n",
        "    print(f'{num} - {n} = {num - n}')\n",
        "  \n",
        "elif operação == 3:\n",
        "  for n in range(0,11):\n",
        "    print(f'{num} / {n} = {num // n}')  \n",
        "\n",
        "else:\n",
        "  for n in range(0,11):\n",
        "    print(f'{num} * {n} = {num * n}')\n"
      ],
      "execution_count": null,
      "outputs": [
        {
          "output_type": "stream",
          "text": [
            "Tabuada\n",
            "Digite o valor do qual deseja saber a tabuada:  2\n",
            "Escolha uma opção:,\n",
            "          1 -> soma,\n",
            "          2 -> subtração,\n",
            "          3 -> divisão,\n",
            "          4 -> multiplicação\n",
            "Qual operação deseja realizar?  1\n",
            "2 + 0 = 2\n",
            "2 + 1 = 3\n",
            "2 + 2 = 4\n",
            "2 + 3 = 5\n",
            "2 + 4 = 6\n",
            "2 + 5 = 7\n",
            "2 + 6 = 8\n",
            "2 + 7 = 9\n",
            "2 + 8 = 10\n",
            "2 + 9 = 11\n",
            "2 + 10 = 12\n"
          ],
          "name": "stdout"
        }
      ]
    },
    {
      "cell_type": "code",
      "metadata": {
        "colab": {
          "base_uri": "https://localhost:8080/"
        },
        "id": "Gd99cNs2o434",
        "outputId": "8c375713-a0fe-4d4a-f6c5-1e8dd58cd2b5"
      },
      "source": [
        "import math\n",
        "nu = float(input('Digite um valor do tipo real: '))\n",
        "print(f'O número {nu} tem {math.trunc(nu)} como sua parte inteira.')\n",
        "print(f'O número {nu} tem {int(nu)} como sua parte inteira.')\n"
      ],
      "execution_count": null,
      "outputs": [
        {
          "output_type": "stream",
          "text": [
            "Digite um valor do tipo real: 9.32\n",
            "O número 9.32 tem 9 como sua parte inteira.\n",
            "O número 9.32 tem 9 como sua parte inteira.\n"
          ],
          "name": "stdout"
        }
      ]
    },
    {
      "cell_type": "code",
      "metadata": {
        "colab": {
          "base_uri": "https://localhost:8080/"
        },
        "id": "nrFwKBW_16c3",
        "outputId": "24f0765a-2bfd-4d32-ca91-467778660ef8"
      },
      "source": [
        "print('Calculando o comprimento da hipotenusa')\n",
        "a = float(input('Digite o valor do cateto oposto: '))\n",
        "b = float(input('Digite o valor do cateto adjacente: '))\n",
        "h = ((a*a) +(b*b)) ** (1/2)\n",
        "print(f'O comprimento da hipotenusa é: {h}')\n",
        "print(f'O comprimento da hipotenusa é: {((a*a)+(b*b)) ** (1/2)}')\n"
      ],
      "execution_count": null,
      "outputs": [
        {
          "output_type": "stream",
          "text": [
            "Calculando o comprimento da hipotenusa\n",
            "Digite o valor do cateto oposto: 9\n",
            "Digite o valor do cateto adjacente: 12\n",
            "O comprimento da hipotenusa é: 15.0\n",
            "O comprimento da hipotenusa é: 15.0\n"
          ],
          "name": "stdout"
        }
      ]
    },
    {
      "cell_type": "code",
      "metadata": {
        "colab": {
          "base_uri": "https://localhost:8080/"
        },
        "id": "eYxA3d2JBbH3",
        "outputId": "5bfa3ffe-dca8-4a14-928a-1d28f7f7c244"
      },
      "source": [
        "import random\n",
        "print('Sorteando um nome ')\n",
        "alunos = []\n",
        "a = 0\n",
        "while a < 4:\n",
        "  aluno = str(input('Digite o nome do aluno:  '))\n",
        "  alunos.append(aluno)\n",
        "  print(f'O {a+1}º aluno é {aluno}')\n",
        "  a = a + 1\n",
        "escolhido = random.choice(alunos) # O método choice() escolhe algo dentro de uma lista\n",
        "\n",
        "print('========== Escolhendo =============')\n",
        "print(f'O escolhido(a) foi {escolhido}')"
      ],
      "execution_count": null,
      "outputs": [
        {
          "output_type": "stream",
          "text": [
            "Sorteando um nome \n",
            "Digite o nome do aluno:  José \n",
            "O 1º aluno é José \n",
            "Digite o nome do aluno:  Allan\n",
            "O 2º aluno é Allan\n",
            "Digite o nome do aluno:  Thalita\n",
            "O 3º aluno é Thalita\n",
            "Digite o nome do aluno:  Agatha\n",
            "O 4º aluno é Agatha\n",
            "========== Escolhendo =============\n",
            "O escolhido(a) foi Allan\n"
          ],
          "name": "stdout"
        }
      ]
    },
    {
      "cell_type": "code",
      "metadata": {
        "colab": {
          "base_uri": "https://localhost:8080/"
        },
        "id": "lxPUrWsEILxj",
        "outputId": "f0aea26c-da92-406f-e990-1345538a7dc7"
      },
      "source": [
        "import random\n",
        "print('Sorteando um nome ')\n",
        "alunos = []\n",
        "a = 0\n",
        "while a < 4:\n",
        "  aluno = str(input('Digite o nome do aluno:  '))\n",
        "  alunos.append(aluno)\n",
        "  print(f'O {a+1}º aluno é {aluno}')\n",
        "  a = a + 1\n",
        "random.shuffle(alunos) # O método shuffle() embaralha os valores da lista\n",
        "print(f'A ordem de apresentação será {alunos}')"
      ],
      "execution_count": null,
      "outputs": [
        {
          "output_type": "stream",
          "text": [
            "Sorteando um nome \n",
            "Digite o nome do aluno:  José \n",
            "O 1º aluno é José \n",
            "Digite o nome do aluno:  Allan\n",
            "O 2º aluno é Allan\n",
            "Digite o nome do aluno:  Thalita\n",
            "O 3º aluno é Thalita\n",
            "Digite o nome do aluno:  Agatha\n",
            "O 4º aluno é Agatha\n",
            "A ordem de apresentação será ['Thalita', 'Allan', 'Agatha', 'José ']\n"
          ],
          "name": "stdout"
        }
      ]
    },
    {
      "cell_type": "code",
      "metadata": {
        "colab": {
          "base_uri": "https://localhost:8080/"
        },
        "id": "rtjEW88ErRsS",
        "outputId": "c5080b59-f00b-4b22-9092-0d888f902466"
      },
      "source": [
        "print('Análise de textos')\n",
        "nome = str(input(\"Digite seu nome completo: \")).strip()\n",
        "print(nome.upper())\n",
        "print(nome.lower())\n",
        "print(f'Seu nome tem {len(nome)- nome.count(\" \")} letras')\n",
        "print(f'Seu primeiro nome tem {nome.find(\" \")} letras ')\n",
        "separa = nome.split() # Usado para separar cada palavra e coloca-la em uma lista\n",
        "print(f'Seu primeiro nome é {separa[0]} e ele tem {len(separa[0])} letras. ')"
      ],
      "execution_count": null,
      "outputs": [
        {
          "output_type": "stream",
          "text": [
            "Análise de textos\n",
            "Digite seu nome completo: José Nilton do Nascimento Fagundes\n",
            "JOSÉ NILTON DO NASCIMENTO FAGUNDES\n",
            "josé nilton do nascimento fagundes\n",
            "Seu nome tem 30 letras\n",
            "Seu primeiro nome tem 4 letras \n",
            "Seu primeiro nome é José e ele tem 4 letras. \n"
          ],
          "name": "stdout"
        }
      ]
    },
    {
      "cell_type": "code",
      "metadata": {
        "colab": {
          "base_uri": "https://localhost:8080/"
        },
        "id": "iLHc4xyQd750",
        "outputId": "f0f11dad-39cc-4a7e-ce6c-95806221491e"
      },
      "source": [
        "print('Analisando números')\n",
        "nu = int(input('Digite um número: '))\n",
        "\n",
        "print(f'Sua unidade é: {nu // 1 % 10}')\n",
        "print(f'Sua dezena é: {nu //10 % 10}')\n",
        "print(f'Sua centena é: {nu // 100 % 10}')\n",
        "print(f'Seu milhar é: {nu // 1000 % 10}')"
      ],
      "execution_count": null,
      "outputs": [
        {
          "output_type": "stream",
          "text": [
            "Analisando números\n",
            "Digite um número: 12\n",
            "Sua unidade é: 2\n",
            "Sua dezena é: 1\n",
            "Sua centena é: 0\n",
            "Seu milhar é: 0\n"
          ],
          "name": "stdout"
        }
      ]
    },
    {
      "cell_type": "code",
      "metadata": {
        "colab": {
          "base_uri": "https://localhost:8080/"
        },
        "id": "4h-RKqZOhfj_",
        "outputId": "d9e680e3-47fa-4adf-8477-2089970f9155"
      },
      "source": [
        "import random\n",
        "print('Jogo da advinhação')\n",
        "pc = random.randint(0, 5)\n",
        "print('Estou pensando em um número entre 0 e 10, consegue adivinhar qual? ')\n",
        "chute = int(input('Qual número estou pensando? '))\n",
        "if chute == pc:\n",
        "  print(f'Parabéns você acertou')\n",
        "else:\n",
        "  print(f'Que pena, errou. Eu pensei no número {pc}')  \n"
      ],
      "execution_count": null,
      "outputs": [
        {
          "output_type": "stream",
          "text": [
            "Jogo da advinhação\n",
            "Estou pensando em um número entre 0 e 10, consegue adivinhar qual? \n",
            "Qual número estou pensando? 5\n",
            "Parabéns você acertou\n"
          ],
          "name": "stdout"
        }
      ]
    },
    {
      "cell_type": "code",
      "metadata": {
        "id": "qhmURtiXj9IZ",
        "colab": {
          "base_uri": "https://localhost:8080/"
        },
        "outputId": "c296796d-6acd-42b5-a5b8-af6dcb38da80"
      },
      "source": [
        "print('Calculando multa de trânsito')\n",
        "velocidade = float(input('Digite a velocidade atingida pelo veículo:  '))\n",
        "multa = velocidade - 80\n",
        "if velocidade > 80:\n",
        "  print(f'Sua velocidade está acima do pemitido. Você está a {velocidade}km/h')\n",
        "  print(f'Sua multa será de R${multa}')\n",
        "else:\n",
        "  print(f'Sua velocidade é {velocidade}km/h')  "
      ],
      "execution_count": null,
      "outputs": [
        {
          "output_type": "stream",
          "text": [
            "Calculando multa de trânsito\n",
            "Digite a velocidade atingida pelo veículo:  70\n",
            "Sua velocidade é 70.0km/h\n"
          ],
          "name": "stdout"
        }
      ]
    },
    {
      "cell_type": "code",
      "metadata": {
        "colab": {
          "base_uri": "https://localhost:8080/"
        },
        "id": "KoWPsOni4lai",
        "outputId": "380de92b-62e3-41b5-e6d0-0a6791f00744"
      },
      "source": [
        "print('Par ou Ímpar')\n",
        "num = int(input('Digite um número: '))\n",
        "if (num % 2) == 0:\n",
        "  print(f'Você digitou o valor {num}, esse número é par')\n",
        "else:\n",
        "  print(f'Você digitou {num}, esse número é ímpar.')  "
      ],
      "execution_count": null,
      "outputs": [
        {
          "output_type": "stream",
          "text": [
            "Par ou Ímpar\n",
            "Digite um número: 10\n",
            "Você digitou o valor 10, esse número é par\n"
          ],
          "name": "stdout"
        }
      ]
    },
    {
      "cell_type": "code",
      "metadata": {
        "colab": {
          "base_uri": "https://localhost:8080/"
        },
        "id": "CbhP-xKTEEog",
        "outputId": "546ac584-8078-4e5d-836b-2977c75b7c3c"
      },
      "source": [
        "print('Calculo do preço de passagem')\n",
        "dis = float(input('Digite a distância percorrida:  '))\n",
        "if dis <= 200:\n",
        "  passagem = dis * 0.50\n",
        "  print(f'Sua viagem tem a distância de {dis}km. Sua passagem irá custar: R${passagem}')\n",
        "if dis > 200:\n",
        "  passagem = dis * 0.45\n",
        "  print(f'Sua viagem tem a distância de {dis}km. Sua passagem irá custar: R${passagem}') \n"
      ],
      "execution_count": null,
      "outputs": [
        {
          "output_type": "stream",
          "text": [
            "Calculo do preço de passagem\n",
            "Digite a distância percorrida:  300\n",
            "Sua viagem tem a distância de 300.0km. Sua passagem irá custar: R$135.0\n"
          ],
          "name": "stdout"
        }
      ]
    },
    {
      "cell_type": "code",
      "metadata": {
        "colab": {
          "base_uri": "https://localhost:8080/"
        },
        "id": "i2f1dQXTi86H",
        "outputId": "7166099e-7416-4aac-f5a0-1be8dde6bebe"
      },
      "source": [
        "print('Descobrir se o ano é bissexto')\n",
        "ano = int(input('Qual ano deseja descobrir?  '))\n",
        "if ano % 4 == 0 and ano % 100 != 0 or ano % 400 == 0:\n",
        "  print(f'O ano de {ano} é um ano bissexto.')\n",
        "else:\n",
        "  print(f'O ano de {ano} não é bissexto')  "
      ],
      "execution_count": 2,
      "outputs": [
        {
          "output_type": "stream",
          "text": [
            "Descobrir se o ano é bissexto\n",
            "Qual ano deseja descobrir?  2021\n",
            "O ano de 2021 não é bissexto\n"
          ],
          "name": "stdout"
        }
      ]
    },
    {
      "cell_type": "code",
      "metadata": {
        "colab": {
          "base_uri": "https://localhost:8080/"
        },
        "id": "LhQe1foylAHA",
        "outputId": "cebcc62b-c503-4c88-e097-331416b7829f"
      },
      "source": [
        "print('Identificação de números')\n",
        "nu1 = int(input('Digite um valor inteiro: '))\n",
        "nu2 = int(input('Digite um segundo número: '))\n",
        "nu3 = int(input('Digite o terceiro número: '))\n",
        "if nu1 > nu2 and nu1 > nu3:\n",
        "  print(f'O número {nu1} é o maior deles.')\n",
        "elif nu2 > nu1 and nu2 > nu3:\n",
        "  print(f'O número {nu2} é o maior deles.')\n",
        "else:\n",
        "  print(f'O número {nu3} é o maior deles.')  \n",
        "\n",
        "if nu1 < nu2 and nu1 < nu3:\n",
        "  print(f'O número {nu1} é o menor deles.')\n",
        "elif nu2 < nu1 and nu2 < nu3:\n",
        "  print(f'O número {nu2} é o menor deles.')\n",
        "else:\n",
        "  print(f'O número {nu3} é o menor deles.')    \n"
      ],
      "execution_count": 4,
      "outputs": [
        {
          "output_type": "stream",
          "text": [
            "Identificação de números\n",
            "Digite um valor inteiro: 4\n",
            "Digite um segundo número: 7\n",
            "Digite o terceiro número: 1\n",
            "O número 7 é o maior deles.\n",
            "O número 1 é o menor deles.\n"
          ],
          "name": "stdout"
        }
      ]
    },
    {
      "cell_type": "code",
      "metadata": {
        "colab": {
          "base_uri": "https://localhost:8080/"
        },
        "id": "k7ZOAwRusoMq",
        "outputId": "1dd32567-0979-42a8-e308-64ac7e7c4dfd"
      },
      "source": [
        "print('Outra forma de resolver identificação de números.')\n",
        "a = int(input('Digite um valor inteiro: '))\n",
        "b = int(input('Digite um segundo número: '))\n",
        "c = int(input('Digite o terceiro número: '))\n",
        "menor = a\n",
        "if b < a and b < c:\n",
        "  menor = b\n",
        "elif c < a and c < b:\n",
        "  menor = c\n",
        "print(f'O menor valor digitado é {menor}')\n",
        "\n",
        "maior = a\n",
        "if b > a and b > c:\n",
        "  maior = b\n",
        "elif c > a and c > b:\n",
        "  maior = c\n",
        "print(f'O maior valor digitado é {maior}')  \n",
        "\n",
        "\n"
      ],
      "execution_count": 6,
      "outputs": [
        {
          "output_type": "stream",
          "text": [
            "Outra forma de resolver identificação de números.\n",
            "Digite um valor inteiro: 4\n",
            "Digite um segundo número: 7\n",
            "Digite o terceiro número: 1\n",
            "O menor valor digitado é 1\n",
            "O maior valor digitado é 7\n"
          ],
          "name": "stdout"
        }
      ]
    },
    {
      "cell_type": "code",
      "metadata": {
        "colab": {
          "base_uri": "https://localhost:8080/"
        },
        "id": "qozD0Gm3uM4L",
        "outputId": "1aeb0d2b-692a-49b3-b1ed-fc0fa635778d"
      },
      "source": [
        "print('Novo salário')\n",
        "salario = float(input('Digite o salário atual: '))\n",
        "print(f'O salário atual é R${salario}')\n",
        "if salario <= 1250:\n",
        "  salario_novo = (salario * (10/100)) + salario\n",
        "else:\n",
        "  salario_novo = (salario * (15/100)) + salario\n",
        "\n",
        "print(f'O novo salário é R${salario_novo}')\n"
      ],
      "execution_count": 10,
      "outputs": [
        {
          "output_type": "stream",
          "text": [
            "Novo salário\n",
            "Digite o salário atual: 2000\n",
            "O salário atual é R$2000.0\n",
            "O novo salário é R$2300.0\n"
          ],
          "name": "stdout"
        }
      ]
    }
  ]
}