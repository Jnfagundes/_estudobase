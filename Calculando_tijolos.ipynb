{
  "nbformat": 4,
  "nbformat_minor": 0,
  "metadata": {
    "colab": {
      "name": "Calculando_tijolos.ipynb",
      "provenance": [],
      "authorship_tag": "ABX9TyOSfAakQLQJH9XOqb8QMCM7",
      "include_colab_link": true
    },
    "kernelspec": {
      "name": "python3",
      "display_name": "Python 3"
    },
    "language_info": {
      "name": "python"
    }
  },
  "cells": [
    {
      "cell_type": "markdown",
      "metadata": {
        "id": "view-in-github",
        "colab_type": "text"
      },
      "source": [
        "<a href=\"https://colab.research.google.com/github/Jnfagundes/_portifolio/blob/master/Calculando_tijolos.ipynb\" target=\"_parent\"><img src=\"https://colab.research.google.com/assets/colab-badge.svg\" alt=\"Open In Colab\"/></a>"
      ]
    },
    {
      "cell_type": "code",
      "metadata": {
        "colab": {
          "base_uri": "https://localhost:8080/"
        },
        "id": "PTtRcfKkRV8u",
        "outputId": "7cd2d206-7d6e-4e4d-f42a-3e2e23cb6697"
      },
      "source": [
        "class Tijolo:\n",
        "  def __init__(self, a, b):\n",
        "    self.a = a\n",
        "    self.b = b\n",
        "\n",
        "  def areaTijolo(self):\n",
        "    area = self.a * self.b\n",
        "    return area\n",
        "\n",
        "  def quantidade(self, p):\n",
        "   quantidadeTijolo =  p / self.areaTijolo() \n",
        "   return quantidadeTijolo\n",
        "\n",
        "\n",
        "tijolo = Tijolo(0.19, 0.29)\n",
        "t = tijolo.areaTijolo()\n",
        "areaParede = tijolo.quantidade(3)\n",
        "\n",
        "print(areaParede)\n",
        "\n",
        "\n"
      ],
      "execution_count": 13,
      "outputs": [
        {
          "output_type": "stream",
          "text": [
            "54.4464609800363\n"
          ],
          "name": "stdout"
        }
      ]
    }
  ]
}