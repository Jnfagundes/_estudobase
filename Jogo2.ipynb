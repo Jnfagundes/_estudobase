{
  "nbformat": 4,
  "nbformat_minor": 0,
  "metadata": {
    "colab": {
      "name": "Jogo2.ipynb",
      "provenance": [],
      "authorship_tag": "ABX9TyOkiEtEEJ4x9egUprWYPs1m",
      "include_colab_link": true
    },
    "kernelspec": {
      "name": "python3",
      "display_name": "Python 3"
    },
    "language_info": {
      "name": "python"
    }
  },
  "cells": [
    {
      "cell_type": "markdown",
      "metadata": {
        "id": "view-in-github",
        "colab_type": "text"
      },
      "source": [
        "<a href=\"https://colab.research.google.com/github/Jnfagundes/_portifolio/blob/master/Jogo2.ipynb\" target=\"_parent\"><img src=\"https://colab.research.google.com/assets/colab-badge.svg\" alt=\"Open In Colab\"/></a>"
      ]
    },
    {
      "cell_type": "code",
      "metadata": {
        "colab": {
          "base_uri": "https://localhost:8080/"
        },
        "id": "EG7pNQ1ZSDbH",
        "outputId": "676d5767-dd5e-4946-8391-cd2ef12ee0d2"
      },
      "source": [
        "from random import randint # Importando a biblioteca\n",
        "# Criando a lista de palavras\n",
        "palavras = ['sapato',  'cachorro',  'carimbo', 'caminhar', 'cansado', 'andando', 'felicidade', 'macaco', 'mamifero', 'aclamado', 'sorrateiro', 'palpite',\n",
        "            'girafa', 'pato', 'sofrimento', 'fazenda', 'livro', 'grande', 'granito', 'rua', 'arvore', 'lagoa', 'bolsa', 'cabelo', 'colher',\n",
        "            'piso', 'esquadrilha', 'sua']\n",
        "# Definindo a função que irá sortear a palavra dentro da lista            \n",
        "def palavra_secreta():\n",
        "  pl = len(palavras) # Descobrir a quantidade de palavras dentro da variável palavras\n",
        "  p = randint(0, (pl -1)) # Sorteando a posição da palavra\n",
        "  pa =palavras[p] # Guardando a palavra sorteada na variável pa\n",
        "  pa_secreta = [] # Criando uma lista vazia que irá receber as letras da palavra secreta\n",
        "  for p, l in enumerate(pa): # Encontrando a posição de cada letra (transformando cada letra em um item da lista)\n",
        "    pa_secreta.append(l) # Adicionando cada letra da palavra dentro da lista\n",
        "  return pa_secreta\n",
        "\n",
        "letra = palavra_secreta()  \n",
        "print(letra)\n",
        "print('===================================================================')\n",
        "\n",
        "# Definindo a função que irá criar o espaço\n",
        "def espaço(): # Desenhando os espaços de acordo com o tamanho da palavra\n",
        "  espaco = [] # Criando a lista que receberá os espaços\n",
        "  for t, e in enumerate(letra): # Para cada letra dentro da palavra é criado um -\n",
        "    espaco.append('_') \n",
        "  return espaco\n",
        "\n",
        "# Definindo a função que irá trocar cada espaço por letra\n",
        "def chute():\n",
        "  esp = espaço() # Aqui estamos chamando a função espaço()\n",
        "  nova_esp = [] # Criando uma lista vazia\n",
        "  for p, l in enumerate(letra): # percorrendo a lista letra\n",
        "    if l == letra_palavra: #\n",
        "        esp.pop(p) # Aqui estamos apagando o espaçop\n",
        "        esp.insert(p, l) # Aqui estamos colocando l dentro do espaço p\n",
        "  nova_esp = esp  # A nova lista recebe a antiga lista\n",
        "  return  nova_esp   \n",
        "\n",
        "\n",
        "\n",
        "print(esp)\n",
        "print('===================================================================')\n",
        "\n",
        "letra_palavra = str(input('Escolha uma letra: '))\n",
        "c = chute()\n",
        "print(c)  "
      ],
      "execution_count": 120,
      "outputs": [
        {
          "output_type": "stream",
          "text": [
            "['p', 'a', 'l', 'p', 'i', 't', 'e']\n",
            "===================================================================\n",
            "['_', '_', '_', '_', '_', '_', '_']\n",
            "===================================================================\n",
            "Escolha uma letra: p\n",
            "['p', '_', '_', 'p', '_', '_', '_']\n"
          ],
          "name": "stdout"
        }
      ]
    }
  ]
}